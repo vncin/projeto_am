{
 "cells": [
  {
   "cell_type": "markdown",
   "metadata": {
    "id": "6QzexDLzSo-Y"
   },
   "source": [
    "# **Projeto Aprendizagem de Máquina** \n",
    "\n",
    "\n",
    "\n",
    "\n"
   ]
  },
  {
   "cell_type": "markdown",
   "metadata": {
    "id": "iEwrJOAwgOp-"
   },
   "source": [
    "Descrição detalhada da divisão do projeto: \n",
    "\n",
    "- Etapas:\n",
    " - Carregar o dataset e importar as bibliotecas\n",
    " - Pequena Análise Exploratória\n",
    " - Seleção de Parâmetros / GridSearch \n",
    " - Aplicação dos algoritmos\n",
    "    - kNN\n",
    "    - SVM\n",
    "    - Naive-Bayes\n",
    "    - Árvore de Decisão\n",
    "    - MLP\n",
    "  - Comparação de Matriz de Confusão e Relatório de Métricas\n"
   ]
  },
  {
   "cell_type": "markdown",
   "metadata": {
    "id": "97WEA0RJSnxf"
   },
   "source": [
    "# 1 - Leitura dos Dados"
   ]
  },
  {
   "cell_type": "markdown",
   "metadata": {
    "id": "zd-aOmXdB8UJ"
   },
   "source": [
    "**Importando as bibliotecas básicas**"
   ]
  },
  {
   "cell_type": "code",
   "execution_count": 1,
   "metadata": {
    "id": "ajKhkWMOhpFV"
   },
   "outputs": [],
   "source": [
    "import pandas as pd\n",
    "import numpy as np\n",
    "import seaborn as sns\n",
    "import matplotlib.pyplot as plt\n",
    "%matplotlib inline"
   ]
  },
  {
   "cell_type": "code",
   "execution_count": 2,
   "metadata": {
    "id": "YB0hFrNOLHFo"
   },
   "outputs": [],
   "source": [
    "import warnings\n",
    "warnings.filterwarnings('ignore')"
   ]
  },
  {
   "cell_type": "code",
   "execution_count": 3,
   "metadata": {
    "id": "1JXGuRIAR9hd"
   },
   "outputs": [],
   "source": [
    "df = pd.read_csv('https://www.openml.org/data/get_csv/584085/BNG_autos_5000_1.arff')"
   ]
  },
  {
   "cell_type": "code",
   "execution_count": 4,
   "metadata": {
    "colab": {
     "base_uri": "https://localhost:8080/",
     "height": 305
    },
    "id": "dsUWB2ahSRsU",
    "outputId": "9b05259e-762f-4c54-f9fe-38e3d21ceca9"
   },
   "outputs": [
    {
     "data": {
      "text/html": [
       "<div>\n",
       "<style scoped>\n",
       "    .dataframe tbody tr th:only-of-type {\n",
       "        vertical-align: middle;\n",
       "    }\n",
       "\n",
       "    .dataframe tbody tr th {\n",
       "        vertical-align: top;\n",
       "    }\n",
       "\n",
       "    .dataframe thead th {\n",
       "        text-align: right;\n",
       "    }\n",
       "</style>\n",
       "<table border=\"1\" class=\"dataframe\">\n",
       "  <thead>\n",
       "    <tr style=\"text-align: right;\">\n",
       "      <th></th>\n",
       "      <th>normalized-losses</th>\n",
       "      <th>make</th>\n",
       "      <th>fuel-type</th>\n",
       "      <th>aspiration</th>\n",
       "      <th>num-of-doors</th>\n",
       "      <th>body-style</th>\n",
       "      <th>drive-wheels</th>\n",
       "      <th>engine-location</th>\n",
       "      <th>wheel-base</th>\n",
       "      <th>length</th>\n",
       "      <th>...</th>\n",
       "      <th>fuel-system</th>\n",
       "      <th>bore</th>\n",
       "      <th>stroke</th>\n",
       "      <th>compression-ratio</th>\n",
       "      <th>horsepower</th>\n",
       "      <th>peak-rpm</th>\n",
       "      <th>city-mpg</th>\n",
       "      <th>highway-mpg</th>\n",
       "      <th>price</th>\n",
       "      <th>symboling</th>\n",
       "    </tr>\n",
       "  </thead>\n",
       "  <tbody>\n",
       "    <tr>\n",
       "      <th>0</th>\n",
       "      <td>94.235189</td>\n",
       "      <td>volkswagen</td>\n",
       "      <td>diesel</td>\n",
       "      <td>turbo</td>\n",
       "      <td>four</td>\n",
       "      <td>hatchback</td>\n",
       "      <td>fwd</td>\n",
       "      <td>front</td>\n",
       "      <td>96.575655</td>\n",
       "      <td>173.369361</td>\n",
       "      <td>...</td>\n",
       "      <td>2bbl</td>\n",
       "      <td>3.122279</td>\n",
       "      <td>3.295534</td>\n",
       "      <td>9.219909</td>\n",
       "      <td>57.578864</td>\n",
       "      <td>5988.161816</td>\n",
       "      <td>31.814042</td>\n",
       "      <td>34.505390</td>\n",
       "      <td>8605.484961</td>\n",
       "      <td>2</td>\n",
       "    </tr>\n",
       "    <tr>\n",
       "      <th>1</th>\n",
       "      <td>106.648646</td>\n",
       "      <td>volvo</td>\n",
       "      <td>diesel</td>\n",
       "      <td>turbo</td>\n",
       "      <td>four</td>\n",
       "      <td>sedan</td>\n",
       "      <td>rwd</td>\n",
       "      <td>front</td>\n",
       "      <td>109.846269</td>\n",
       "      <td>196.214268</td>\n",
       "      <td>...</td>\n",
       "      <td>mfi</td>\n",
       "      <td>3.293933</td>\n",
       "      <td>3.392775</td>\n",
       "      <td>8.637036</td>\n",
       "      <td>113.705719</td>\n",
       "      <td>4490.621234</td>\n",
       "      <td>25.817650</td>\n",
       "      <td>35.053335</td>\n",
       "      <td>26633.568618</td>\n",
       "      <td>-1</td>\n",
       "    </tr>\n",
       "    <tr>\n",
       "      <th>2</th>\n",
       "      <td>118.472162</td>\n",
       "      <td>nissan</td>\n",
       "      <td>gas</td>\n",
       "      <td>std</td>\n",
       "      <td>four</td>\n",
       "      <td>wagon</td>\n",
       "      <td>fwd</td>\n",
       "      <td>front</td>\n",
       "      <td>95.024314</td>\n",
       "      <td>165.909864</td>\n",
       "      <td>...</td>\n",
       "      <td>mpfi</td>\n",
       "      <td>3.051725</td>\n",
       "      <td>3.248152</td>\n",
       "      <td>9.000000</td>\n",
       "      <td>117.757103</td>\n",
       "      <td>4799.168653</td>\n",
       "      <td>22.783708</td>\n",
       "      <td>27.760480</td>\n",
       "      <td>5900.715970</td>\n",
       "      <td>0</td>\n",
       "    </tr>\n",
       "    <tr>\n",
       "      <th>3</th>\n",
       "      <td>62.717600</td>\n",
       "      <td>porsche</td>\n",
       "      <td>gas</td>\n",
       "      <td>std</td>\n",
       "      <td>two</td>\n",
       "      <td>hatchback</td>\n",
       "      <td>rwd</td>\n",
       "      <td>front</td>\n",
       "      <td>100.174878</td>\n",
       "      <td>182.499698</td>\n",
       "      <td>...</td>\n",
       "      <td>1bbl</td>\n",
       "      <td>3.238181</td>\n",
       "      <td>3.241202</td>\n",
       "      <td>9.278929</td>\n",
       "      <td>85.762326</td>\n",
       "      <td>5086.244824</td>\n",
       "      <td>14.949801</td>\n",
       "      <td>24.464281</td>\n",
       "      <td>8641.179741</td>\n",
       "      <td>1</td>\n",
       "    </tr>\n",
       "    <tr>\n",
       "      <th>4</th>\n",
       "      <td>105.808352</td>\n",
       "      <td>honda</td>\n",
       "      <td>gas</td>\n",
       "      <td>std</td>\n",
       "      <td>four</td>\n",
       "      <td>sedan</td>\n",
       "      <td>fwd</td>\n",
       "      <td>front</td>\n",
       "      <td>96.792849</td>\n",
       "      <td>172.594242</td>\n",
       "      <td>...</td>\n",
       "      <td>2bbl</td>\n",
       "      <td>3.296874</td>\n",
       "      <td>3.506498</td>\n",
       "      <td>7.068202</td>\n",
       "      <td>73.158430</td>\n",
       "      <td>4417.985102</td>\n",
       "      <td>20.781260</td>\n",
       "      <td>19.686021</td>\n",
       "      <td>9831.490432</td>\n",
       "      <td>0</td>\n",
       "    </tr>\n",
       "  </tbody>\n",
       "</table>\n",
       "<p>5 rows × 26 columns</p>\n",
       "</div>"
      ],
      "text/plain": [
       "   normalized-losses        make fuel-type aspiration num-of-doors body-style  \\\n",
       "0          94.235189  volkswagen    diesel      turbo         four  hatchback   \n",
       "1         106.648646       volvo    diesel      turbo         four      sedan   \n",
       "2         118.472162      nissan       gas        std         four      wagon   \n",
       "3          62.717600     porsche       gas        std          two  hatchback   \n",
       "4         105.808352       honda       gas        std         four      sedan   \n",
       "\n",
       "  drive-wheels engine-location  wheel-base      length  ...  fuel-system  \\\n",
       "0          fwd           front   96.575655  173.369361  ...         2bbl   \n",
       "1          rwd           front  109.846269  196.214268  ...          mfi   \n",
       "2          fwd           front   95.024314  165.909864  ...         mpfi   \n",
       "3          rwd           front  100.174878  182.499698  ...         1bbl   \n",
       "4          fwd           front   96.792849  172.594242  ...         2bbl   \n",
       "\n",
       "       bore    stroke compression-ratio  horsepower     peak-rpm   city-mpg  \\\n",
       "0  3.122279  3.295534          9.219909   57.578864  5988.161816  31.814042   \n",
       "1  3.293933  3.392775          8.637036  113.705719  4490.621234  25.817650   \n",
       "2  3.051725  3.248152          9.000000  117.757103  4799.168653  22.783708   \n",
       "3  3.238181  3.241202          9.278929   85.762326  5086.244824  14.949801   \n",
       "4  3.296874  3.506498          7.068202   73.158430  4417.985102  20.781260   \n",
       "\n",
       "   highway-mpg         price  symboling  \n",
       "0    34.505390   8605.484961          2  \n",
       "1    35.053335  26633.568618         -1  \n",
       "2    27.760480   5900.715970          0  \n",
       "3    24.464281   8641.179741          1  \n",
       "4    19.686021   9831.490432          0  \n",
       "\n",
       "[5 rows x 26 columns]"
      ]
     },
     "execution_count": 4,
     "metadata": {},
     "output_type": "execute_result"
    }
   ],
   "source": [
    "df.head()"
   ]
  },
  {
   "cell_type": "code",
   "execution_count": 5,
   "metadata": {
    "colab": {
     "base_uri": "https://localhost:8080/"
    },
    "id": "_UfQhL4uTBXT",
    "outputId": "7ddeb9df-9a37-48d0-a6c9-a49d5894343b"
   },
   "outputs": [
    {
     "name": "stdout",
     "output_type": "stream",
     "text": [
      "<class 'pandas.core.frame.DataFrame'>\n",
      "RangeIndex: 1000000 entries, 0 to 999999\n",
      "Data columns (total 26 columns):\n",
      " #   Column             Non-Null Count    Dtype  \n",
      "---  ------             --------------    -----  \n",
      " 0   normalized-losses  1000000 non-null  float64\n",
      " 1   make               1000000 non-null  object \n",
      " 2   fuel-type          1000000 non-null  object \n",
      " 3   aspiration         1000000 non-null  object \n",
      " 4   num-of-doors       1000000 non-null  object \n",
      " 5   body-style         1000000 non-null  object \n",
      " 6   drive-wheels       1000000 non-null  object \n",
      " 7   engine-location    1000000 non-null  object \n",
      " 8   wheel-base         1000000 non-null  float64\n",
      " 9   length             1000000 non-null  float64\n",
      " 10  width              1000000 non-null  float64\n",
      " 11  height             1000000 non-null  float64\n",
      " 12  curb-weight        1000000 non-null  float64\n",
      " 13  engine-type        1000000 non-null  object \n",
      " 14  num-of-cylinders   1000000 non-null  object \n",
      " 15  engine-size        1000000 non-null  float64\n",
      " 16  fuel-system        1000000 non-null  object \n",
      " 17  bore               1000000 non-null  float64\n",
      " 18  stroke             1000000 non-null  float64\n",
      " 19  compression-ratio  1000000 non-null  float64\n",
      " 20  horsepower         1000000 non-null  float64\n",
      " 21  peak-rpm           1000000 non-null  float64\n",
      " 22  city-mpg           1000000 non-null  float64\n",
      " 23  highway-mpg        1000000 non-null  float64\n",
      " 24  price              1000000 non-null  float64\n",
      " 25  symboling          1000000 non-null  int64  \n",
      "dtypes: float64(15), int64(1), object(10)\n",
      "memory usage: 198.4+ MB\n"
     ]
    }
   ],
   "source": [
    "df.info()"
   ]
  },
  {
   "cell_type": "code",
   "execution_count": 6,
   "metadata": {
    "colab": {
     "base_uri": "https://localhost:8080/",
     "height": 381
    },
    "id": "MspypHlFTC1N",
    "outputId": "88acb69e-0ca0-4b69-b701-7b8574d4f6d1"
   },
   "outputs": [
    {
     "data": {
      "text/html": [
       "<div>\n",
       "<style scoped>\n",
       "    .dataframe tbody tr th:only-of-type {\n",
       "        vertical-align: middle;\n",
       "    }\n",
       "\n",
       "    .dataframe tbody tr th {\n",
       "        vertical-align: top;\n",
       "    }\n",
       "\n",
       "    .dataframe thead th {\n",
       "        text-align: right;\n",
       "    }\n",
       "</style>\n",
       "<table border=\"1\" class=\"dataframe\">\n",
       "  <thead>\n",
       "    <tr style=\"text-align: right;\">\n",
       "      <th></th>\n",
       "      <th>normalized-losses</th>\n",
       "      <th>wheel-base</th>\n",
       "      <th>length</th>\n",
       "      <th>width</th>\n",
       "      <th>height</th>\n",
       "      <th>curb-weight</th>\n",
       "      <th>engine-size</th>\n",
       "      <th>bore</th>\n",
       "      <th>stroke</th>\n",
       "      <th>compression-ratio</th>\n",
       "      <th>horsepower</th>\n",
       "      <th>peak-rpm</th>\n",
       "      <th>city-mpg</th>\n",
       "      <th>highway-mpg</th>\n",
       "      <th>price</th>\n",
       "      <th>symboling</th>\n",
       "    </tr>\n",
       "  </thead>\n",
       "  <tbody>\n",
       "    <tr>\n",
       "      <th>count</th>\n",
       "      <td>1000000.000000</td>\n",
       "      <td>1000000.000000</td>\n",
       "      <td>1000000.000000</td>\n",
       "      <td>1000000.000000</td>\n",
       "      <td>1000000.000000</td>\n",
       "      <td>1000000.000000</td>\n",
       "      <td>1000000.000000</td>\n",
       "      <td>1000000.000000</td>\n",
       "      <td>1000000.000000</td>\n",
       "      <td>1000000.000000</td>\n",
       "      <td>1000000.000000</td>\n",
       "      <td>1000000.000000</td>\n",
       "      <td>1000000.000000</td>\n",
       "      <td>1000000.000000</td>\n",
       "      <td>1000000.000000</td>\n",
       "      <td>1000000.000000</td>\n",
       "    </tr>\n",
       "    <tr>\n",
       "      <th>mean</th>\n",
       "      <td>113.510711</td>\n",
       "      <td>98.854919</td>\n",
       "      <td>175.094839</td>\n",
       "      <td>65.943307</td>\n",
       "      <td>53.776607</td>\n",
       "      <td>2560.843432</td>\n",
       "      <td>123.880027</td>\n",
       "      <td>3.326901</td>\n",
       "      <td>3.244812</td>\n",
       "      <td>9.983965</td>\n",
       "      <td>104.269063</td>\n",
       "      <td>5131.603023</td>\n",
       "      <td>24.451775</td>\n",
       "      <td>29.973515</td>\n",
       "      <td>13593.755393</td>\n",
       "      <td>0.821153</td>\n",
       "    </tr>\n",
       "    <tr>\n",
       "      <th>std</th>\n",
       "      <td>35.106574</td>\n",
       "      <td>5.990935</td>\n",
       "      <td>11.927550</td>\n",
       "      <td>2.121701</td>\n",
       "      <td>2.447637</td>\n",
       "      <td>504.357478</td>\n",
       "      <td>39.695208</td>\n",
       "      <td>0.266986</td>\n",
       "      <td>0.322483</td>\n",
       "      <td>3.845532</td>\n",
       "      <td>38.666009</td>\n",
       "      <td>547.573360</td>\n",
       "      <td>6.315004</td>\n",
       "      <td>6.416974</td>\n",
       "      <td>7970.598703</td>\n",
       "      <td>1.264560</td>\n",
       "    </tr>\n",
       "    <tr>\n",
       "      <th>min</th>\n",
       "      <td>37.625922</td>\n",
       "      <td>83.295423</td>\n",
       "      <td>134.019251</td>\n",
       "      <td>60.270307</td>\n",
       "      <td>46.979469</td>\n",
       "      <td>1512.825242</td>\n",
       "      <td>9.891578</td>\n",
       "      <td>2.558468</td>\n",
       "      <td>1.713911</td>\n",
       "      <td>-11.806341</td>\n",
       "      <td>38.144847</td>\n",
       "      <td>3406.968387</td>\n",
       "      <td>10.511926</td>\n",
       "      <td>11.470231</td>\n",
       "      <td>-11740.505210</td>\n",
       "      <td>-3.000000</td>\n",
       "    </tr>\n",
       "    <tr>\n",
       "      <th>25%</th>\n",
       "      <td>87.415814</td>\n",
       "      <td>95.016712</td>\n",
       "      <td>168.147694</td>\n",
       "      <td>64.366474</td>\n",
       "      <td>52.045923</td>\n",
       "      <td>2195.725215</td>\n",
       "      <td>98.587671</td>\n",
       "      <td>3.124133</td>\n",
       "      <td>3.115118</td>\n",
       "      <td>8.507955</td>\n",
       "      <td>75.024920</td>\n",
       "      <td>4793.758844</td>\n",
       "      <td>19.458207</td>\n",
       "      <td>25.363765</td>\n",
       "      <td>8046.079569</td>\n",
       "      <td>0.000000</td>\n",
       "    </tr>\n",
       "    <tr>\n",
       "      <th>50%</th>\n",
       "      <td>101.422245</td>\n",
       "      <td>97.061769</td>\n",
       "      <td>173.808763</td>\n",
       "      <td>65.624562</td>\n",
       "      <td>53.901260</td>\n",
       "      <td>2448.739895</td>\n",
       "      <td>112.789370</td>\n",
       "      <td>3.327894</td>\n",
       "      <td>3.278506</td>\n",
       "      <td>9.000000</td>\n",
       "      <td>95.446948</td>\n",
       "      <td>5092.150170</td>\n",
       "      <td>23.975710</td>\n",
       "      <td>29.876137</td>\n",
       "      <td>10823.699995</td>\n",
       "      <td>1.000000</td>\n",
       "    </tr>\n",
       "    <tr>\n",
       "      <th>75%</th>\n",
       "      <td>137.589230</td>\n",
       "      <td>101.587399</td>\n",
       "      <td>182.658106</td>\n",
       "      <td>66.871121</td>\n",
       "      <td>55.374157</td>\n",
       "      <td>2884.920428</td>\n",
       "      <td>134.757312</td>\n",
       "      <td>3.547367</td>\n",
       "      <td>3.416920</td>\n",
       "      <td>9.350466</td>\n",
       "      <td>118.154583</td>\n",
       "      <td>5486.313227</td>\n",
       "      <td>28.069830</td>\n",
       "      <td>33.407297</td>\n",
       "      <td>15824.226678</td>\n",
       "      <td>2.000000</td>\n",
       "    </tr>\n",
       "    <tr>\n",
       "      <th>max</th>\n",
       "      <td>273.722584</td>\n",
       "      <td>127.194382</td>\n",
       "      <td>215.994000</td>\n",
       "      <td>75.596629</td>\n",
       "      <td>62.500610</td>\n",
       "      <td>4716.212861</td>\n",
       "      <td>381.012483</td>\n",
       "      <td>4.072103</td>\n",
       "      <td>4.458423</td>\n",
       "      <td>42.161764</td>\n",
       "      <td>303.922617</td>\n",
       "      <td>6931.555398</td>\n",
       "      <td>54.824617</td>\n",
       "      <td>61.696829</td>\n",
       "      <td>63918.819174</td>\n",
       "      <td>3.000000</td>\n",
       "    </tr>\n",
       "  </tbody>\n",
       "</table>\n",
       "</div>"
      ],
      "text/plain": [
       "       normalized-losses      wheel-base          length           width  \\\n",
       "count     1000000.000000  1000000.000000  1000000.000000  1000000.000000   \n",
       "mean          113.510711       98.854919      175.094839       65.943307   \n",
       "std            35.106574        5.990935       11.927550        2.121701   \n",
       "min            37.625922       83.295423      134.019251       60.270307   \n",
       "25%            87.415814       95.016712      168.147694       64.366474   \n",
       "50%           101.422245       97.061769      173.808763       65.624562   \n",
       "75%           137.589230      101.587399      182.658106       66.871121   \n",
       "max           273.722584      127.194382      215.994000       75.596629   \n",
       "\n",
       "               height     curb-weight     engine-size            bore  \\\n",
       "count  1000000.000000  1000000.000000  1000000.000000  1000000.000000   \n",
       "mean        53.776607     2560.843432      123.880027        3.326901   \n",
       "std          2.447637      504.357478       39.695208        0.266986   \n",
       "min         46.979469     1512.825242        9.891578        2.558468   \n",
       "25%         52.045923     2195.725215       98.587671        3.124133   \n",
       "50%         53.901260     2448.739895      112.789370        3.327894   \n",
       "75%         55.374157     2884.920428      134.757312        3.547367   \n",
       "max         62.500610     4716.212861      381.012483        4.072103   \n",
       "\n",
       "               stroke  compression-ratio      horsepower        peak-rpm  \\\n",
       "count  1000000.000000     1000000.000000  1000000.000000  1000000.000000   \n",
       "mean         3.244812           9.983965      104.269063     5131.603023   \n",
       "std          0.322483           3.845532       38.666009      547.573360   \n",
       "min          1.713911         -11.806341       38.144847     3406.968387   \n",
       "25%          3.115118           8.507955       75.024920     4793.758844   \n",
       "50%          3.278506           9.000000       95.446948     5092.150170   \n",
       "75%          3.416920           9.350466      118.154583     5486.313227   \n",
       "max          4.458423          42.161764      303.922617     6931.555398   \n",
       "\n",
       "             city-mpg     highway-mpg           price       symboling  \n",
       "count  1000000.000000  1000000.000000  1000000.000000  1000000.000000  \n",
       "mean        24.451775       29.973515    13593.755393        0.821153  \n",
       "std          6.315004        6.416974     7970.598703        1.264560  \n",
       "min         10.511926       11.470231   -11740.505210       -3.000000  \n",
       "25%         19.458207       25.363765     8046.079569        0.000000  \n",
       "50%         23.975710       29.876137    10823.699995        1.000000  \n",
       "75%         28.069830       33.407297    15824.226678        2.000000  \n",
       "max         54.824617       61.696829    63918.819174        3.000000  "
      ]
     },
     "execution_count": 6,
     "metadata": {},
     "output_type": "execute_result"
    }
   ],
   "source": [
    "df.describe()"
   ]
  },
  {
   "cell_type": "code",
   "execution_count": 7,
   "metadata": {
    "colab": {
     "base_uri": "https://localhost:8080/",
     "height": 175
    },
    "id": "YOhawUXw5gCz",
    "outputId": "d7d29b49-5e48-4f01-c0af-729a3aa87cbf"
   },
   "outputs": [
    {
     "data": {
      "text/html": [
       "<div>\n",
       "<style scoped>\n",
       "    .dataframe tbody tr th:only-of-type {\n",
       "        vertical-align: middle;\n",
       "    }\n",
       "\n",
       "    .dataframe tbody tr th {\n",
       "        vertical-align: top;\n",
       "    }\n",
       "\n",
       "    .dataframe thead th {\n",
       "        text-align: right;\n",
       "    }\n",
       "</style>\n",
       "<table border=\"1\" class=\"dataframe\">\n",
       "  <thead>\n",
       "    <tr style=\"text-align: right;\">\n",
       "      <th></th>\n",
       "      <th>make</th>\n",
       "      <th>fuel-type</th>\n",
       "      <th>aspiration</th>\n",
       "      <th>num-of-doors</th>\n",
       "      <th>body-style</th>\n",
       "      <th>drive-wheels</th>\n",
       "      <th>engine-location</th>\n",
       "      <th>engine-type</th>\n",
       "      <th>num-of-cylinders</th>\n",
       "      <th>fuel-system</th>\n",
       "    </tr>\n",
       "  </thead>\n",
       "  <tbody>\n",
       "    <tr>\n",
       "      <th>count</th>\n",
       "      <td>1000000</td>\n",
       "      <td>1000000</td>\n",
       "      <td>1000000</td>\n",
       "      <td>1000000</td>\n",
       "      <td>1000000</td>\n",
       "      <td>1000000</td>\n",
       "      <td>1000000</td>\n",
       "      <td>1000000</td>\n",
       "      <td>1000000</td>\n",
       "      <td>1000000</td>\n",
       "    </tr>\n",
       "    <tr>\n",
       "      <th>unique</th>\n",
       "      <td>22</td>\n",
       "      <td>2</td>\n",
       "      <td>2</td>\n",
       "      <td>2</td>\n",
       "      <td>5</td>\n",
       "      <td>3</td>\n",
       "      <td>2</td>\n",
       "      <td>7</td>\n",
       "      <td>7</td>\n",
       "      <td>8</td>\n",
       "    </tr>\n",
       "    <tr>\n",
       "      <th>top</th>\n",
       "      <td>toyota</td>\n",
       "      <td>gas</td>\n",
       "      <td>std</td>\n",
       "      <td>four</td>\n",
       "      <td>sedan</td>\n",
       "      <td>fwd</td>\n",
       "      <td>front</td>\n",
       "      <td>ohc</td>\n",
       "      <td>four</td>\n",
       "      <td>mpfi</td>\n",
       "    </tr>\n",
       "    <tr>\n",
       "      <th>freq</th>\n",
       "      <td>88888</td>\n",
       "      <td>865828</td>\n",
       "      <td>742443</td>\n",
       "      <td>522406</td>\n",
       "      <td>419455</td>\n",
       "      <td>471264</td>\n",
       "      <td>919619</td>\n",
       "      <td>462284</td>\n",
       "      <td>507365</td>\n",
       "      <td>361956</td>\n",
       "    </tr>\n",
       "  </tbody>\n",
       "</table>\n",
       "</div>"
      ],
      "text/plain": [
       "           make fuel-type aspiration num-of-doors body-style drive-wheels  \\\n",
       "count   1000000   1000000    1000000      1000000    1000000      1000000   \n",
       "unique       22         2          2            2          5            3   \n",
       "top      toyota       gas        std         four      sedan          fwd   \n",
       "freq      88888    865828     742443       522406     419455       471264   \n",
       "\n",
       "       engine-location engine-type num-of-cylinders fuel-system  \n",
       "count          1000000     1000000          1000000     1000000  \n",
       "unique               2           7                7           8  \n",
       "top              front         ohc             four        mpfi  \n",
       "freq            919619      462284           507365      361956  "
      ]
     },
     "execution_count": 7,
     "metadata": {},
     "output_type": "execute_result"
    }
   ],
   "source": [
    "df.describe(include='object')"
   ]
  },
  {
   "cell_type": "code",
   "execution_count": 8,
   "metadata": {
    "colab": {
     "base_uri": "https://localhost:8080/"
    },
    "id": "IANo78Ew71m_",
    "outputId": "5463affe-f889-4ca2-fbf3-2dab65f7603a"
   },
   "outputs": [
    {
     "name": "stdout",
     "output_type": "stream",
     "text": [
      "normalized-losses    float64\n",
      "make                  object\n",
      "fuel-type             object\n",
      "aspiration            object\n",
      "num-of-doors          object\n",
      "body-style            object\n",
      "drive-wheels          object\n",
      "engine-location       object\n",
      "wheel-base           float64\n",
      "length               float64\n",
      "width                float64\n",
      "height               float64\n",
      "curb-weight          float64\n",
      "engine-type           object\n",
      "num-of-cylinders      object\n",
      "engine-size          float64\n",
      "fuel-system           object\n",
      "bore                 float64\n",
      "stroke               float64\n",
      "compression-ratio    float64\n",
      "horsepower           float64\n",
      "peak-rpm             float64\n",
      "city-mpg             float64\n",
      "highway-mpg          float64\n",
      "price                float64\n",
      "symboling              int64\n",
      "dtype: object\n"
     ]
    }
   ],
   "source": [
    "# list the data types for each column\n",
    "print(df.dtypes)"
   ]
  },
  {
   "cell_type": "code",
   "execution_count": 9,
   "metadata": {
    "colab": {
     "base_uri": "https://localhost:8080/"
    },
    "id": "Il6AQV79bGkt",
    "outputId": "2d9a6f78-3b6f-4769-cd05-3c24256469f6"
   },
   "outputs": [
    {
     "data": {
      "text/plain": [
       "normalized-losses    0\n",
       "make                 0\n",
       "fuel-type            0\n",
       "aspiration           0\n",
       "num-of-doors         0\n",
       "body-style           0\n",
       "drive-wheels         0\n",
       "engine-location      0\n",
       "wheel-base           0\n",
       "length               0\n",
       "width                0\n",
       "height               0\n",
       "curb-weight          0\n",
       "engine-type          0\n",
       "num-of-cylinders     0\n",
       "engine-size          0\n",
       "fuel-system          0\n",
       "bore                 0\n",
       "stroke               0\n",
       "compression-ratio    0\n",
       "horsepower           0\n",
       "peak-rpm             0\n",
       "city-mpg             0\n",
       "highway-mpg          0\n",
       "price                0\n",
       "symboling            0\n",
       "dtype: int64"
      ]
     },
     "execution_count": 9,
     "metadata": {},
     "output_type": "execute_result"
    }
   ],
   "source": [
    "df.isnull().sum()"
   ]
  },
  {
   "cell_type": "code",
   "execution_count": 10,
   "metadata": {
    "id": "hMYNNvTY9Qjh"
   },
   "outputs": [],
   "source": [
    "# Convertendo variável 'symboling' para formato categórico\n",
    "\n",
    "df['symboling'] = df['symboling'].astype('category')\n",
    "# df.drop(labels=['symboling'],axis=1,inplace=True)"
   ]
  },
  {
   "cell_type": "code",
   "execution_count": 11,
   "metadata": {
    "id": "tkRKIN7pz1vk"
   },
   "outputs": [],
   "source": [
    "# sns.countplot(x='symboling',data=df)"
   ]
  },
  {
   "cell_type": "code",
   "execution_count": 12,
   "metadata": {
    "colab": {
     "base_uri": "https://localhost:8080/"
    },
    "id": "6iNT5lHa9tYL",
    "outputId": "a99bf701-ca6e-44c9-d215-f73473bc135b"
   },
   "outputs": [
    {
     "data": {
      "text/plain": [
       "1000000"
      ]
     },
     "execution_count": 12,
     "metadata": {},
     "output_type": "execute_result"
    }
   ],
   "source": [
    "len(df.duplicated() == False)"
   ]
  },
  {
   "cell_type": "code",
   "execution_count": 13,
   "metadata": {
    "id": "UUQC3FH7Wwaa"
   },
   "outputs": [],
   "source": [
    "df.drop(df.loc[df['price'] <= 0].index, inplace=True)"
   ]
  },
  {
   "cell_type": "code",
   "execution_count": 14,
   "metadata": {
    "id": "noBb_B97Xeyu"
   },
   "outputs": [],
   "source": [
    "df.drop(df.loc[df['compression-ratio'] <= 0].index, inplace=True)"
   ]
  },
  {
   "cell_type": "code",
   "execution_count": 15,
   "metadata": {
    "colab": {
     "base_uri": "https://localhost:8080/"
    },
    "id": "LpO5l_ohG1PA",
    "outputId": "dc867b67-6aa6-421a-d9db-a50d3d83383f"
   },
   "outputs": [
    {
     "data": {
      "text/plain": [
       "Index(['normalized-losses', 'wheel-base', 'length', 'width', 'height',\n",
       "       'curb-weight', 'engine-size', 'bore', 'stroke', 'compression-ratio',\n",
       "       'horsepower', 'peak-rpm', 'city-mpg', 'highway-mpg', 'price'],\n",
       "      dtype='object')"
      ]
     },
     "execution_count": 15,
     "metadata": {},
     "output_type": "execute_result"
    }
   ],
   "source": [
    "df.select_dtypes(include='float').columns"
   ]
  },
  {
   "cell_type": "code",
   "execution_count": 16,
   "metadata": {
    "colab": {
     "base_uri": "https://localhost:8080/"
    },
    "id": "cZbJK8x-wDEM",
    "outputId": "e3c7143e-0bdb-473e-fefe-10e004334e4a"
   },
   "outputs": [
    {
     "data": {
      "text/plain": [
       "Index(['make', 'fuel-type', 'aspiration', 'num-of-doors', 'body-style',\n",
       "       'drive-wheels', 'engine-location', 'engine-type', 'num-of-cylinders',\n",
       "       'fuel-system'],\n",
       "      dtype='object')"
      ]
     },
     "execution_count": 16,
     "metadata": {},
     "output_type": "execute_result"
    }
   ],
   "source": [
    "df.select_dtypes(include='object').columns"
   ]
  },
  {
   "cell_type": "markdown",
   "metadata": {
    "id": "9nvzEk_d-aKq"
   },
   "source": [
    "### Removendo *Outliers* via Método de Tukey"
   ]
  },
  {
   "cell_type": "code",
   "execution_count": 17,
   "metadata": {
    "colab": {
     "base_uri": "https://localhost:8080/",
     "height": 297
    },
    "id": "BfWsoxpBv17F",
    "outputId": "ba99e596-d0a2-4a5e-a39c-6ef72ee7d4d0"
   },
   "outputs": [
    {
     "data": {
      "text/plain": [
       "<AxesSubplot:xlabel='price'>"
      ]
     },
     "execution_count": 17,
     "metadata": {},
     "output_type": "execute_result"
    },
    {
     "data": {
      "image/png": "[encoded data removed]",
      "text/plain": [
       "<Figure size 432x288 with 1 Axes>"
      ]
     },
     "metadata": {
      "needs_background": "light"
     },
     "output_type": "display_data"
    }
   ],
   "source": [
    "# quartis de preço (imteressante pra remover outliers)\n",
    "sns.boxplot(df['price'])"
   ]
  },
  {
   "cell_type": "code",
   "execution_count": 18,
   "metadata": {
    "id": "LaZmWrQoLJZI"
   },
   "outputs": [],
   "source": [
    "# MAD calculado de forma manual\n",
    "mad = abs(df['price'] - df['price'].median()).median()*(1/0.6745)"
   ]
  },
  {
   "cell_type": "code",
   "execution_count": 19,
   "metadata": {
    "colab": {
     "base_uri": "https://localhost:8080/"
    },
    "id": "rv4mifM4LcQH",
    "outputId": "16d61ad3-6e15-4d00-e02f-126d0c6b148c"
   },
   "outputs": [
    {
     "name": "stdout",
     "output_type": "stream",
     "text": [
      "7778.0595925\n"
     ]
    }
   ],
   "source": [
    "# Cálculo dos intervalos e valor do IQR\n",
    "\n",
    "q1 = df['price'].quantile(q=0.25)\n",
    "q3 = df['price'].quantile(q=0.75)\n",
    "iqr = q3 - q1\n",
    "print(iqr)"
   ]
  },
  {
   "cell_type": "code",
   "execution_count": 20,
   "metadata": {
    "colab": {
     "base_uri": "https://localhost:8080/"
    },
    "id": "QW8FYbZIMIEf",
    "outputId": "84282598-4424-4398-c545-99c43035fbcb"
   },
   "outputs": [
    {
     "data": {
      "text/plain": [
       "909521"
      ]
     },
     "execution_count": 20,
     "metadata": {},
     "output_type": "execute_result"
    }
   ],
   "source": [
    "# Salvando valores sem outliers em novo dataset\n",
    "\n",
    "df = df[(df['price'] > (q1-1.5*iqr)) & (df['price'] < (q3+1.5*iqr))]\n",
    "len(df)"
   ]
  },
  {
   "cell_type": "code",
   "execution_count": 21,
   "metadata": {
    "colab": {
     "base_uri": "https://localhost:8080/",
     "height": 297
    },
    "id": "j7t66477MQ8X",
    "outputId": "4a5180c5-3dc4-4b39-ff8f-dcab6a394170"
   },
   "outputs": [
    {
     "data": {
      "text/plain": [
       "<AxesSubplot:xlabel='price'>"
      ]
     },
     "execution_count": 21,
     "metadata": {},
     "output_type": "execute_result"
    },
    {
     "data": {
      "image/png": "[encoded data removed]",
      "text/plain": [
       "<Figure size 432x288 with 1 Axes>"
      ]
     },
     "metadata": {
      "needs_background": "light"
     },
     "output_type": "display_data"
    }
   ],
   "source": [
    "sns.boxplot(df['price'])"
   ]
  },
  {
   "cell_type": "code",
   "execution_count": 22,
   "metadata": {
    "colab": {
     "base_uri": "https://localhost:8080/",
     "height": 301
    },
    "id": "zXgs-BVGrHvv",
    "outputId": "af13cf09-edf4-40df-c93a-08f4cd0d72f2"
   },
   "outputs": [
    {
     "data": {
      "text/plain": [
       "<AxesSubplot:xlabel='price', ylabel='Density'>"
      ]
     },
     "execution_count": 22,
     "metadata": {},
     "output_type": "execute_result"
    },
    {
     "data": {
      "image/png": "[encoded data removed]",
      "text/plain": [
       "<Figure size 432x288 with 1 Axes>"
      ]
     },
     "metadata": {
      "needs_background": "light"
     },
     "output_type": "display_data"
    }
   ],
   "source": [
    "sns.distplot(a=df['price'],bins=3)"
   ]
  },
  {
   "cell_type": "code",
   "execution_count": 23,
   "metadata": {
    "colab": {
     "base_uri": "https://localhost:8080/"
    },
    "id": "_VP21YFPRW7A",
    "outputId": "45d898e6-51c0-4dd6-bc36-6d3b9b2d18ad"
   },
   "outputs": [
    {
     "data": {
      "text/plain": [
       "909521"
      ]
     },
     "execution_count": 23,
     "metadata": {},
     "output_type": "execute_result"
    }
   ],
   "source": [
    "df['price'].count()"
   ]
  },
  {
   "cell_type": "code",
   "execution_count": 26,
   "metadata": {
    "colab": {
     "base_uri": "https://localhost:8080/"
    },
    "id": "qFH0wumsqA-4",
    "outputId": "0ae4e957-42fc-41fc-bfb3-4d492b09daca"
   },
   "outputs": [
    {
     "data": {
      "text/plain": [
       "normalized-losses    3560\n",
       "make                 3560\n",
       "fuel-type            3560\n",
       "aspiration           3560\n",
       "num-of-doors         3560\n",
       "body-style           3560\n",
       "drive-wheels         3560\n",
       "engine-location      3560\n",
       "wheel-base           3560\n",
       "length               3560\n",
       "width                3560\n",
       "height               3560\n",
       "curb-weight          3560\n",
       "engine-type          3560\n",
       "num-of-cylinders     3560\n",
       "engine-size          3560\n",
       "fuel-system          3560\n",
       "bore                 3560\n",
       "stroke               3560\n",
       "compression-ratio    3560\n",
       "horsepower           3560\n",
       "peak-rpm             3560\n",
       "city-mpg             3560\n",
       "highway-mpg          3560\n",
       "price                3560\n",
       "symboling            3560\n",
       "dtype: int64"
      ]
     },
     "execution_count": 26,
     "metadata": {},
     "output_type": "execute_result"
    }
   ],
   "source": [
    "df[df['price'] < 5000].count()"
   ]
  },
  {
   "cell_type": "code",
   "execution_count": 27,
   "metadata": {
    "id": "WiElVr6d5NLU"
   },
   "outputs": [],
   "source": [
    "# Discretizando coluna de preços para o chi-quadrado\n",
    "df['price_cat'] = pd.cut(df['price'],[0,10000,20000,30000])"
   ]
  },
  {
   "cell_type": "code",
   "execution_count": 28,
   "metadata": {
    "colab": {
     "base_uri": "https://localhost:8080/"
    },
    "id": "JVMj7Kcb6V-I",
    "outputId": "eaa37512-1332-4838-fdec-e2bfdb04bfca"
   },
   "outputs": [
    {
     "data": {
      "text/plain": [
       "Index(['symboling', 'price_cat'], dtype='object')"
      ]
     },
     "execution_count": 28,
     "metadata": {},
     "output_type": "execute_result"
    }
   ],
   "source": [
    "df.select_dtypes(include='category').columns"
   ]
  },
  {
   "cell_type": "code",
   "execution_count": 29,
   "metadata": {
    "id": "ksiG4qhbyIns"
   },
   "outputs": [],
   "source": [
    "# Convertendo 'object' para correspondente numérico"
   ]
  },
  {
   "cell_type": "code",
   "execution_count": 30,
   "metadata": {
    "id": "Gh_bvICAyRAw"
   },
   "outputs": [],
   "source": [
    "# Lista com informações das colunas convertidas chave-valor\n",
    "lista_de_dicts = []\n",
    "\n",
    "for col in df.select_dtypes(include=['object','category']).columns:\n",
    "  makers = dict(enumerate(df[col].unique()))\n",
    "  lista_de_dicts.append({col:makers})\n",
    "  df[col] = df[col].apply(lambda make: [k for k, v in makers.items() if v == make][0])\n",
    "  df[col] = df[col].astype('category')"
   ]
  },
  {
   "cell_type": "code",
   "execution_count": 32,
   "metadata": {
    "colab": {
     "base_uri": "https://localhost:8080/"
    },
    "id": "rw2kRYtUdcHG",
    "outputId": "b1315e33-cf48-4c00-c0de-765784f225c4"
   },
   "outputs": [
    {
     "name": "stdout",
     "output_type": "stream",
     "text": [
      "<class 'pandas.core.frame.DataFrame'>\n",
      "Int64Index: 909521 entries, 0 to 999999\n",
      "Data columns (total 27 columns):\n",
      " #   Column             Non-Null Count   Dtype   \n",
      "---  ------             --------------   -----   \n",
      " 0   normalized-losses  909521 non-null  float64 \n",
      " 1   make               909521 non-null  category\n",
      " 2   fuel-type          909521 non-null  category\n",
      " 3   aspiration         909521 non-null  category\n",
      " 4   num-of-doors       909521 non-null  category\n",
      " 5   body-style         909521 non-null  category\n",
      " 6   drive-wheels       909521 non-null  category\n",
      " 7   engine-location    909521 non-null  category\n",
      " 8   wheel-base         909521 non-null  float64 \n",
      " 9   length             909521 non-null  float64 \n",
      " 10  width              909521 non-null  float64 \n",
      " 11  height             909521 non-null  float64 \n",
      " 12  curb-weight        909521 non-null  float64 \n",
      " 13  engine-type        909521 non-null  category\n",
      " 14  num-of-cylinders   909521 non-null  category\n",
      " 15  engine-size        909521 non-null  float64 \n",
      " 16  fuel-system        909521 non-null  category\n",
      " 17  bore               909521 non-null  float64 \n",
      " 18  stroke             909521 non-null  float64 \n",
      " 19  compression-ratio  909521 non-null  float64 \n",
      " 20  horsepower         909521 non-null  float64 \n",
      " 21  peak-rpm           909521 non-null  float64 \n",
      " 22  city-mpg           909521 non-null  float64 \n",
      " 23  highway-mpg        909521 non-null  float64 \n",
      " 24  price              909521 non-null  float64 \n",
      " 25  symboling          909521 non-null  category\n",
      " 26  price_cat          909521 non-null  category\n",
      "dtypes: category(12), float64(15)\n",
      "memory usage: 121.4 MB\n"
     ]
    }
   ],
   "source": [
    "df.info()"
   ]
  },
  {
   "cell_type": "code",
   "execution_count": 33,
   "metadata": {
    "colab": {
     "base_uri": "https://localhost:8080/",
     "height": 305
    },
    "id": "zoUhSpjBy18k",
    "outputId": "e2c2f1d4-c0aa-4ca7-dd29-fe46b7a798b5"
   },
   "outputs": [
    {
     "data": {
      "text/html": [
       "<div>\n",
       "<style scoped>\n",
       "    .dataframe tbody tr th:only-of-type {\n",
       "        vertical-align: middle;\n",
       "    }\n",
       "\n",
       "    .dataframe tbody tr th {\n",
       "        vertical-align: top;\n",
       "    }\n",
       "\n",
       "    .dataframe thead th {\n",
       "        text-align: right;\n",
       "    }\n",
       "</style>\n",
       "<table border=\"1\" class=\"dataframe\">\n",
       "  <thead>\n",
       "    <tr style=\"text-align: right;\">\n",
       "      <th></th>\n",
       "      <th>normalized-losses</th>\n",
       "      <th>make</th>\n",
       "      <th>fuel-type</th>\n",
       "      <th>aspiration</th>\n",
       "      <th>num-of-doors</th>\n",
       "      <th>body-style</th>\n",
       "      <th>drive-wheels</th>\n",
       "      <th>engine-location</th>\n",
       "      <th>wheel-base</th>\n",
       "      <th>length</th>\n",
       "      <th>...</th>\n",
       "      <th>bore</th>\n",
       "      <th>stroke</th>\n",
       "      <th>compression-ratio</th>\n",
       "      <th>horsepower</th>\n",
       "      <th>peak-rpm</th>\n",
       "      <th>city-mpg</th>\n",
       "      <th>highway-mpg</th>\n",
       "      <th>price</th>\n",
       "      <th>symboling</th>\n",
       "      <th>price_cat</th>\n",
       "    </tr>\n",
       "  </thead>\n",
       "  <tbody>\n",
       "    <tr>\n",
       "      <th>0</th>\n",
       "      <td>94.235189</td>\n",
       "      <td>0</td>\n",
       "      <td>0</td>\n",
       "      <td>0</td>\n",
       "      <td>0</td>\n",
       "      <td>0</td>\n",
       "      <td>0</td>\n",
       "      <td>0</td>\n",
       "      <td>96.575655</td>\n",
       "      <td>173.369361</td>\n",
       "      <td>...</td>\n",
       "      <td>3.122279</td>\n",
       "      <td>3.295534</td>\n",
       "      <td>9.219909</td>\n",
       "      <td>57.578864</td>\n",
       "      <td>5988.161816</td>\n",
       "      <td>31.814042</td>\n",
       "      <td>34.505390</td>\n",
       "      <td>8605.484961</td>\n",
       "      <td>0</td>\n",
       "      <td>0</td>\n",
       "    </tr>\n",
       "    <tr>\n",
       "      <th>1</th>\n",
       "      <td>106.648646</td>\n",
       "      <td>1</td>\n",
       "      <td>0</td>\n",
       "      <td>0</td>\n",
       "      <td>0</td>\n",
       "      <td>1</td>\n",
       "      <td>1</td>\n",
       "      <td>0</td>\n",
       "      <td>109.846269</td>\n",
       "      <td>196.214268</td>\n",
       "      <td>...</td>\n",
       "      <td>3.293933</td>\n",
       "      <td>3.392775</td>\n",
       "      <td>8.637036</td>\n",
       "      <td>113.705719</td>\n",
       "      <td>4490.621234</td>\n",
       "      <td>25.817650</td>\n",
       "      <td>35.053335</td>\n",
       "      <td>26633.568618</td>\n",
       "      <td>1</td>\n",
       "      <td>1</td>\n",
       "    </tr>\n",
       "    <tr>\n",
       "      <th>2</th>\n",
       "      <td>118.472162</td>\n",
       "      <td>2</td>\n",
       "      <td>1</td>\n",
       "      <td>1</td>\n",
       "      <td>0</td>\n",
       "      <td>2</td>\n",
       "      <td>0</td>\n",
       "      <td>0</td>\n",
       "      <td>95.024314</td>\n",
       "      <td>165.909864</td>\n",
       "      <td>...</td>\n",
       "      <td>3.051725</td>\n",
       "      <td>3.248152</td>\n",
       "      <td>9.000000</td>\n",
       "      <td>117.757103</td>\n",
       "      <td>4799.168653</td>\n",
       "      <td>22.783708</td>\n",
       "      <td>27.760480</td>\n",
       "      <td>5900.715970</td>\n",
       "      <td>2</td>\n",
       "      <td>0</td>\n",
       "    </tr>\n",
       "    <tr>\n",
       "      <th>3</th>\n",
       "      <td>62.717600</td>\n",
       "      <td>3</td>\n",
       "      <td>1</td>\n",
       "      <td>1</td>\n",
       "      <td>1</td>\n",
       "      <td>0</td>\n",
       "      <td>1</td>\n",
       "      <td>0</td>\n",
       "      <td>100.174878</td>\n",
       "      <td>182.499698</td>\n",
       "      <td>...</td>\n",
       "      <td>3.238181</td>\n",
       "      <td>3.241202</td>\n",
       "      <td>9.278929</td>\n",
       "      <td>85.762326</td>\n",
       "      <td>5086.244824</td>\n",
       "      <td>14.949801</td>\n",
       "      <td>24.464281</td>\n",
       "      <td>8641.179741</td>\n",
       "      <td>3</td>\n",
       "      <td>0</td>\n",
       "    </tr>\n",
       "    <tr>\n",
       "      <th>4</th>\n",
       "      <td>105.808352</td>\n",
       "      <td>4</td>\n",
       "      <td>1</td>\n",
       "      <td>1</td>\n",
       "      <td>0</td>\n",
       "      <td>1</td>\n",
       "      <td>0</td>\n",
       "      <td>0</td>\n",
       "      <td>96.792849</td>\n",
       "      <td>172.594242</td>\n",
       "      <td>...</td>\n",
       "      <td>3.296874</td>\n",
       "      <td>3.506498</td>\n",
       "      <td>7.068202</td>\n",
       "      <td>73.158430</td>\n",
       "      <td>4417.985102</td>\n",
       "      <td>20.781260</td>\n",
       "      <td>19.686021</td>\n",
       "      <td>9831.490432</td>\n",
       "      <td>2</td>\n",
       "      <td>0</td>\n",
       "    </tr>\n",
       "  </tbody>\n",
       "</table>\n",
       "<p>5 rows × 27 columns</p>\n",
       "</div>"
      ],
      "text/plain": [
       "   normalized-losses make fuel-type aspiration num-of-doors body-style  \\\n",
       "0          94.235189    0         0          0            0          0   \n",
       "1         106.648646    1         0          0            0          1   \n",
       "2         118.472162    2         1          1            0          2   \n",
       "3          62.717600    3         1          1            1          0   \n",
       "4         105.808352    4         1          1            0          1   \n",
       "\n",
       "  drive-wheels engine-location  wheel-base      length  ...      bore  \\\n",
       "0            0               0   96.575655  173.369361  ...  3.122279   \n",
       "1            1               0  109.846269  196.214268  ...  3.293933   \n",
       "2            0               0   95.024314  165.909864  ...  3.051725   \n",
       "3            1               0  100.174878  182.499698  ...  3.238181   \n",
       "4            0               0   96.792849  172.594242  ...  3.296874   \n",
       "\n",
       "     stroke  compression-ratio  horsepower     peak-rpm   city-mpg  \\\n",
       "0  3.295534           9.219909   57.578864  5988.161816  31.814042   \n",
       "1  3.392775           8.637036  113.705719  4490.621234  25.817650   \n",
       "2  3.248152           9.000000  117.757103  4799.168653  22.783708   \n",
       "3  3.241202           9.278929   85.762326  5086.244824  14.949801   \n",
       "4  3.506498           7.068202   73.158430  4417.985102  20.781260   \n",
       "\n",
       "  highway-mpg         price  symboling  price_cat  \n",
       "0   34.505390   8605.484961          0          0  \n",
       "1   35.053335  26633.568618          1          1  \n",
       "2   27.760480   5900.715970          2          0  \n",
       "3   24.464281   8641.179741          3          0  \n",
       "4   19.686021   9831.490432          2          0  \n",
       "\n",
       "[5 rows x 27 columns]"
      ]
     },
     "execution_count": 33,
     "metadata": {},
     "output_type": "execute_result"
    }
   ],
   "source": [
    "df.head()"
   ]
  },
  {
   "cell_type": "code",
   "execution_count": 34,
   "metadata": {
    "colab": {
     "base_uri": "https://localhost:8080/",
     "height": 581
    },
    "id": "RvjUsZwW2LO0",
    "outputId": "3107f483-bdf6-492c-db95-1a57ddc77853"
   },
   "outputs": [
    {
     "data": {
      "text/plain": [
       "<AxesSubplot:>"
      ]
     },
     "execution_count": 34,
     "metadata": {},
     "output_type": "execute_result"
    },
    {
     "data": {
      "image/png": "[encoded data removed]",
      "text/plain": [
       "<Figure size 864x576 with 1 Axes>"
      ]
     },
     "metadata": {
      "needs_background": "light"
     },
     "output_type": "display_data"
    }
   ],
   "source": [
    "# Correlação das variáveis numéricas com o preço\n",
    "\n",
    "plt.figure(figsize=(12,8))\n",
    "# sns.heatmap(df['price'].corr(),annot=True,cmap='RdBu')\n",
    "df.corr()['price'][:-1].sort_values(ascending=False).plot(kind='bar')"
   ]
  },
  {
   "cell_type": "markdown",
   "metadata": {
    "id": "euGkyyQpCBJu"
   },
   "source": [
    "# **2 - Seleção de parametros** "
   ]
  },
  {
   "cell_type": "markdown",
   "metadata": {
    "id": "wBFGfZozmKjA"
   },
   "source": [
    "## **Seleção de atributos mais relevantes por meio de Qui-Quadrado**"
   ]
  },
  {
   "cell_type": "code",
   "execution_count": 37,
   "metadata": {
    "id": "0ID_9z4brAyf"
   },
   "outputs": [],
   "source": [
    "# Importar metrica\n",
    "from sklearn.feature_selection import chi2"
   ]
  },
  {
   "cell_type": "code",
   "execution_count": 38,
   "metadata": {
    "colab": {
     "base_uri": "https://localhost:8080/"
    },
    "id": "ke31sXWQ8HZr",
    "outputId": "1612899e-1831-4359-b48a-275031fe3777"
   },
   "outputs": [
    {
     "data": {
      "text/plain": [
       "Index(['make', 'fuel-type', 'aspiration', 'num-of-doors', 'body-style',\n",
       "       'drive-wheels', 'engine-location', 'engine-type', 'num-of-cylinders',\n",
       "       'fuel-system', 'symboling', 'price_cat'],\n",
       "      dtype='object')"
      ]
     },
     "execution_count": 38,
     "metadata": {},
     "output_type": "execute_result"
    }
   ],
   "source": [
    "df.select_dtypes(include='category').columns"
   ]
  },
  {
   "cell_type": "code",
   "execution_count": 39,
   "metadata": {
    "id": "6NOCH1rJqmZU"
   },
   "outputs": [],
   "source": [
    "# Split dataset\n",
    "A = df[['make', 'fuel-type', 'aspiration', 'num-of-doors', 'body-style',\n",
    "       'drive-wheels', 'engine-location', 'engine-type', 'num-of-cylinders',\n",
    "       'fuel-system','symboling']]\n",
    "b = df['price_cat']"
   ]
  },
  {
   "cell_type": "code",
   "execution_count": 40,
   "metadata": {
    "id": "Kt3soA83qrTF"
   },
   "outputs": [],
   "source": [
    "# Calculando Chi-Squared\n",
    "chi_scores = chi2(A,b)"
   ]
  },
  {
   "cell_type": "code",
   "execution_count": 41,
   "metadata": {
    "id": "-xlTG7vcqyEk"
   },
   "outputs": [],
   "source": [
    "# Colocando label nos resultados para posterior plot\n",
    "scores = pd.Series(chi_scores[0], index=A.columns)\n",
    "pvalues = pd.Series(chi_scores[1], index=A.columns)\n",
    "\n",
    "list_gl = []\n",
    "for col in A.columns:\n",
    "  list_gl.append((A[col].nunique() - 1)*(b.nunique() - 1))\n",
    "\n",
    "gl = pd.Series(np.array(list_gl), index=A.columns)"
   ]
  },
  {
   "cell_type": "code",
   "execution_count": 42,
   "metadata": {
    "colab": {
     "base_uri": "https://localhost:8080/",
     "height": 394
    },
    "id": "kvCmpelJeof9",
    "outputId": "d3d763ca-7eed-482b-b2cb-a870d4856136"
   },
   "outputs": [
    {
     "data": {
      "text/html": [
       "<div>\n",
       "<style scoped>\n",
       "    .dataframe tbody tr th:only-of-type {\n",
       "        vertical-align: middle;\n",
       "    }\n",
       "\n",
       "    .dataframe tbody tr th {\n",
       "        vertical-align: top;\n",
       "    }\n",
       "\n",
       "    .dataframe thead th {\n",
       "        text-align: right;\n",
       "    }\n",
       "</style>\n",
       "<table border=\"1\" class=\"dataframe\">\n",
       "  <thead>\n",
       "    <tr style=\"text-align: right;\">\n",
       "      <th></th>\n",
       "      <th>Chi2</th>\n",
       "      <th>p-Value</th>\n",
       "      <th>D. Freedom</th>\n",
       "    </tr>\n",
       "  </thead>\n",
       "  <tbody>\n",
       "    <tr>\n",
       "      <th>make</th>\n",
       "      <td>1255.496126</td>\n",
       "      <td>2.357655e-273</td>\n",
       "      <td>42</td>\n",
       "    </tr>\n",
       "    <tr>\n",
       "      <th>fuel-type</th>\n",
       "      <td>2.771895</td>\n",
       "      <td>2.500867e-01</td>\n",
       "      <td>2</td>\n",
       "    </tr>\n",
       "    <tr>\n",
       "      <th>aspiration</th>\n",
       "      <td>51.817975</td>\n",
       "      <td>5.595897e-12</td>\n",
       "      <td>2</td>\n",
       "    </tr>\n",
       "    <tr>\n",
       "      <th>num-of-doors</th>\n",
       "      <td>260.918189</td>\n",
       "      <td>2.199557e-57</td>\n",
       "      <td>2</td>\n",
       "    </tr>\n",
       "    <tr>\n",
       "      <th>body-style</th>\n",
       "      <td>609.722907</td>\n",
       "      <td>3.984309e-133</td>\n",
       "      <td>8</td>\n",
       "    </tr>\n",
       "    <tr>\n",
       "      <th>drive-wheels</th>\n",
       "      <td>2717.355345</td>\n",
       "      <td>0.000000e+00</td>\n",
       "      <td>4</td>\n",
       "    </tr>\n",
       "    <tr>\n",
       "      <th>engine-location</th>\n",
       "      <td>478.337575</td>\n",
       "      <td>1.349943e-104</td>\n",
       "      <td>2</td>\n",
       "    </tr>\n",
       "    <tr>\n",
       "      <th>engine-type</th>\n",
       "      <td>2683.058657</td>\n",
       "      <td>0.000000e+00</td>\n",
       "      <td>12</td>\n",
       "    </tr>\n",
       "    <tr>\n",
       "      <th>num-of-cylinders</th>\n",
       "      <td>1866.326961</td>\n",
       "      <td>0.000000e+00</td>\n",
       "      <td>12</td>\n",
       "    </tr>\n",
       "    <tr>\n",
       "      <th>fuel-system</th>\n",
       "      <td>73.875714</td>\n",
       "      <td>9.080139e-17</td>\n",
       "      <td>14</td>\n",
       "    </tr>\n",
       "    <tr>\n",
       "      <th>symboling</th>\n",
       "      <td>4713.239025</td>\n",
       "      <td>0.000000e+00</td>\n",
       "      <td>12</td>\n",
       "    </tr>\n",
       "  </tbody>\n",
       "</table>\n",
       "</div>"
      ],
      "text/plain": [
       "                         Chi2        p-Value  D. Freedom\n",
       "make              1255.496126  2.357655e-273          42\n",
       "fuel-type            2.771895   2.500867e-01           2\n",
       "aspiration          51.817975   5.595897e-12           2\n",
       "num-of-doors       260.918189   2.199557e-57           2\n",
       "body-style         609.722907  3.984309e-133           8\n",
       "drive-wheels      2717.355345   0.000000e+00           4\n",
       "engine-location    478.337575  1.349943e-104           2\n",
       "engine-type       2683.058657   0.000000e+00          12\n",
       "num-of-cylinders  1866.326961   0.000000e+00          12\n",
       "fuel-system         73.875714   9.080139e-17          14\n",
       "symboling         4713.239025   0.000000e+00          12"
      ]
     },
     "execution_count": 42,
     "metadata": {},
     "output_type": "execute_result"
    }
   ],
   "source": [
    "# Results\n",
    "chi = pd.DataFrame({'Chi2':scores, 'p-Value':pvalues, 'D. Freedom':gl})\n",
    "chi"
   ]
  },
  {
   "cell_type": "code",
   "execution_count": 43,
   "metadata": {
    "colab": {
     "base_uri": "https://localhost:8080/",
     "height": 394
    },
    "id": "vrnEIrjJkLTu",
    "outputId": "f110e09a-275a-41ae-c900-a79d3564c118"
   },
   "outputs": [
    {
     "data": {
      "text/html": [
       "<div>\n",
       "<style scoped>\n",
       "    .dataframe tbody tr th:only-of-type {\n",
       "        vertical-align: middle;\n",
       "    }\n",
       "\n",
       "    .dataframe tbody tr th {\n",
       "        vertical-align: top;\n",
       "    }\n",
       "\n",
       "    .dataframe thead th {\n",
       "        text-align: right;\n",
       "    }\n",
       "</style>\n",
       "<table border=\"1\" class=\"dataframe\">\n",
       "  <thead>\n",
       "    <tr style=\"text-align: right;\">\n",
       "      <th></th>\n",
       "      <th>Chi2</th>\n",
       "      <th>p-Value</th>\n",
       "      <th>D. Freedom</th>\n",
       "    </tr>\n",
       "  </thead>\n",
       "  <tbody>\n",
       "    <tr>\n",
       "      <th>symboling</th>\n",
       "      <td>4713.239025</td>\n",
       "      <td>0.000000e+00</td>\n",
       "      <td>12</td>\n",
       "    </tr>\n",
       "    <tr>\n",
       "      <th>drive-wheels</th>\n",
       "      <td>2717.355345</td>\n",
       "      <td>0.000000e+00</td>\n",
       "      <td>4</td>\n",
       "    </tr>\n",
       "    <tr>\n",
       "      <th>engine-type</th>\n",
       "      <td>2683.058657</td>\n",
       "      <td>0.000000e+00</td>\n",
       "      <td>12</td>\n",
       "    </tr>\n",
       "    <tr>\n",
       "      <th>num-of-cylinders</th>\n",
       "      <td>1866.326961</td>\n",
       "      <td>0.000000e+00</td>\n",
       "      <td>12</td>\n",
       "    </tr>\n",
       "    <tr>\n",
       "      <th>make</th>\n",
       "      <td>1255.496126</td>\n",
       "      <td>2.357655e-273</td>\n",
       "      <td>42</td>\n",
       "    </tr>\n",
       "    <tr>\n",
       "      <th>body-style</th>\n",
       "      <td>609.722907</td>\n",
       "      <td>3.984309e-133</td>\n",
       "      <td>8</td>\n",
       "    </tr>\n",
       "    <tr>\n",
       "      <th>engine-location</th>\n",
       "      <td>478.337575</td>\n",
       "      <td>1.349943e-104</td>\n",
       "      <td>2</td>\n",
       "    </tr>\n",
       "    <tr>\n",
       "      <th>num-of-doors</th>\n",
       "      <td>260.918189</td>\n",
       "      <td>2.199557e-57</td>\n",
       "      <td>2</td>\n",
       "    </tr>\n",
       "    <tr>\n",
       "      <th>fuel-system</th>\n",
       "      <td>73.875714</td>\n",
       "      <td>9.080139e-17</td>\n",
       "      <td>14</td>\n",
       "    </tr>\n",
       "    <tr>\n",
       "      <th>aspiration</th>\n",
       "      <td>51.817975</td>\n",
       "      <td>5.595897e-12</td>\n",
       "      <td>2</td>\n",
       "    </tr>\n",
       "    <tr>\n",
       "      <th>fuel-type</th>\n",
       "      <td>2.771895</td>\n",
       "      <td>2.500867e-01</td>\n",
       "      <td>2</td>\n",
       "    </tr>\n",
       "  </tbody>\n",
       "</table>\n",
       "</div>"
      ],
      "text/plain": [
       "                         Chi2        p-Value  D. Freedom\n",
       "symboling         4713.239025   0.000000e+00          12\n",
       "drive-wheels      2717.355345   0.000000e+00           4\n",
       "engine-type       2683.058657   0.000000e+00          12\n",
       "num-of-cylinders  1866.326961   0.000000e+00          12\n",
       "make              1255.496126  2.357655e-273          42\n",
       "body-style         609.722907  3.984309e-133           8\n",
       "engine-location    478.337575  1.349943e-104           2\n",
       "num-of-doors       260.918189   2.199557e-57           2\n",
       "fuel-system         73.875714   9.080139e-17          14\n",
       "aspiration          51.817975   5.595897e-12           2\n",
       "fuel-type            2.771895   2.500867e-01           2"
      ]
     },
     "execution_count": 43,
     "metadata": {},
     "output_type": "execute_result"
    }
   ],
   "source": [
    "chi.sort_values(by = ['Chi2'], ascending=False)"
   ]
  },
  {
   "cell_type": "markdown",
   "metadata": {
    "id": "wfFunKfWFckV"
   },
   "source": [
    "### Selecionando as variáveis mais signitificativas em decorrência dos testes de correlação e dependência"
   ]
  },
  {
   "cell_type": "code",
   "execution_count": 219,
   "metadata": {
    "id": "WH2jys-XFpAV"
   },
   "outputs": [],
   "source": [
    "new_df = df[['make', 'aspiration', 'num-of-doors', 'body-style',\n",
    "       'drive-wheels', 'engine-location', 'engine-type', 'num-of-cylinders',\n",
    "       'fuel-system','price','price_cat','symboling']]\n",
    "       # 'curb-weight'"
   ]
  },
  {
   "cell_type": "markdown",
   "metadata": {},
   "source": [
    "### Proporção dos dados"
   ]
  },
  {
   "cell_type": "code",
   "execution_count": 220,
   "metadata": {},
   "outputs": [
    {
     "data": {
      "text/plain": [
       "46.0"
      ]
     },
     "execution_count": 220,
     "metadata": {},
     "output_type": "execute_result"
    }
   ],
   "source": [
    "round(new_df[new_df['price_cat']==0].shape[0]/new_df['price_cat'].shape[0], 2)*100"
   ]
  },
  {
   "cell_type": "code",
   "execution_count": 221,
   "metadata": {},
   "outputs": [
    {
     "data": {
      "text/plain": [
       "8.0"
      ]
     },
     "execution_count": 221,
     "metadata": {},
     "output_type": "execute_result"
    }
   ],
   "source": [
    "round(new_df[new_df['price_cat']==1].shape[0]/new_df['price_cat'].shape[0], 2)*100"
   ]
  },
  {
   "cell_type": "code",
   "execution_count": 222,
   "metadata": {},
   "outputs": [
    {
     "data": {
      "text/plain": [
       "46.0"
      ]
     },
     "execution_count": 222,
     "metadata": {},
     "output_type": "execute_result"
    }
   ],
   "source": [
    "round(new_df[new_df['price_cat']==2].shape[0]/new_df['price_cat'].shape[0], 2)*100"
   ]
  },
  {
   "cell_type": "code",
   "execution_count": 268,
   "metadata": {},
   "outputs": [],
   "source": [
    "#selecionando 3000 amostras do dataset original\n",
    "data0 = new_df[new_df['price_cat']==0].sample(4600)\n",
    "data1 = new_df[new_df['price_cat']==1].sample(800)\n",
    "data2 = new_df[new_df['price_cat']==2].sample(4600)\n",
    "\n",
    "data = pd.concat([data0, data1, data2], ignore_index=True)"
   ]
  },
  {
   "cell_type": "code",
   "execution_count": 269,
   "metadata": {
    "colab": {
     "base_uri": "https://localhost:8080/"
    },
    "id": "dAB_IVomIu4-",
    "outputId": "2196eabe-38c8-4c57-c72e-0f029625dda9"
   },
   "outputs": [
    {
     "data": {
      "text/plain": [
       "1     800\n",
       "0    4600\n",
       "2    4600\n",
       "Name: price_cat, dtype: int64"
      ]
     },
     "execution_count": 269,
     "metadata": {},
     "output_type": "execute_result"
    }
   ],
   "source": [
    "data['price_cat'].value_counts().sort_values() "
   ]
  },
  {
   "cell_type": "markdown",
   "metadata": {
    "id": "9sjY3yEeadqh"
   },
   "source": [
    "# **Treinamento da Máquina**"
   ]
  },
  {
   "cell_type": "code",
   "execution_count": 270,
   "metadata": {
    "id": "-S2arubLahOW"
   },
   "outputs": [],
   "source": [
    "# Bibliotecas dos Modelos\n",
    "from sklearn.neighbors import KNeighborsClassifier\n",
    "from sklearn.neural_network import MLPClassifier\n",
    "from sklearn.tree import DecisionTreeClassifier\n",
    "from sklearn.svm import SVC \n",
    "from sklearn.naive_bayes import GaussianNB, BernoulliNB\n",
    "\n",
    "# Pré-processamento\n",
    "from sklearn.preprocessing import label_binarize\n",
    "\n",
    "#Funções de Validação\n",
    "from sklearn.model_selection import StratifiedKFold\n",
    "from sklearn.metrics import classification_report, accuracy_score, f1_score, plot_roc_curve, roc_auc_score, plot_confusion_matrix, confusion_matrix, roc_curve, auc\n",
    "from sklearn.model_selection import train_test_split\n",
    "from sklearn.model_selection import GridSearchCV\n",
    "from sklearn.multiclass import OneVsRestClassifier\n",
    "\n",
    "#plotar graficos ROCAUC\n",
    "from yellowbrick.classifier import ROCAUC"
   ]
  },
  {
   "cell_type": "markdown",
   "metadata": {
    "id": "Gu2JeN-HOo3S"
   },
   "source": [
    "## **Stratified k-Fold Cross Validation**"
   ]
  },
  {
   "cell_type": "code",
   "execution_count": 271,
   "metadata": {},
   "outputs": [],
   "source": [
    "#One hot encoder\n",
    "\n",
    "from sklearn.preprocessing import OneHotEncoder\n",
    "from sklearn.preprocessing import LabelEncoder"
   ]
  },
  {
   "cell_type": "code",
   "execution_count": 272,
   "metadata": {
    "id": "1CF4lzPuh45E"
   },
   "outputs": [],
   "source": [
    "# divisão dos datasets\n",
    "\n",
    "X = data.drop(['price', 'price_cat'], axis=1)\n",
    "y = data['price_cat']"
   ]
  },
  {
   "cell_type": "code",
   "execution_count": 273,
   "metadata": {},
   "outputs": [],
   "source": [
    "# one-hot encode input variables\n",
    "ohe = OneHotEncoder(sparse=False)\n",
    "X = pd.DataFrame(ohe.fit_transform(X))\n",
    "lenc = LabelEncoder()\n",
    "y = pd.DataFrame(lenc.fit_transform(y))"
   ]
  },
  {
   "cell_type": "code",
   "execution_count": 274,
   "metadata": {},
   "outputs": [
    {
     "data": {
      "text/plain": [
       "(10000, 65)"
      ]
     },
     "execution_count": 274,
     "metadata": {},
     "output_type": "execute_result"
    }
   ],
   "source": [
    "X.shape"
   ]
  },
  {
   "cell_type": "code",
   "execution_count": 275,
   "metadata": {},
   "outputs": [
    {
     "data": {
      "text/plain": [
       "(10000, 1)"
      ]
     },
     "execution_count": 275,
     "metadata": {},
     "output_type": "execute_result"
    }
   ],
   "source": [
    "y.shape"
   ]
  },
  {
   "cell_type": "code",
   "execution_count": 276,
   "metadata": {},
   "outputs": [
    {
     "data": {
      "text/html": [
       "<div>\n",
       "<style scoped>\n",
       "    .dataframe tbody tr th:only-of-type {\n",
       "        vertical-align: middle;\n",
       "    }\n",
       "\n",
       "    .dataframe tbody tr th {\n",
       "        vertical-align: top;\n",
       "    }\n",
       "\n",
       "    .dataframe thead th {\n",
       "        text-align: right;\n",
       "    }\n",
       "</style>\n",
       "<table border=\"1\" class=\"dataframe\">\n",
       "  <thead>\n",
       "    <tr style=\"text-align: right;\">\n",
       "      <th></th>\n",
       "      <th>0</th>\n",
       "    </tr>\n",
       "  </thead>\n",
       "  <tbody>\n",
       "    <tr>\n",
       "      <th>0</th>\n",
       "      <td>0</td>\n",
       "    </tr>\n",
       "    <tr>\n",
       "      <th>1</th>\n",
       "      <td>0</td>\n",
       "    </tr>\n",
       "    <tr>\n",
       "      <th>2</th>\n",
       "      <td>0</td>\n",
       "    </tr>\n",
       "    <tr>\n",
       "      <th>3</th>\n",
       "      <td>0</td>\n",
       "    </tr>\n",
       "    <tr>\n",
       "      <th>4</th>\n",
       "      <td>0</td>\n",
       "    </tr>\n",
       "    <tr>\n",
       "      <th>...</th>\n",
       "      <td>...</td>\n",
       "    </tr>\n",
       "    <tr>\n",
       "      <th>9995</th>\n",
       "      <td>2</td>\n",
       "    </tr>\n",
       "    <tr>\n",
       "      <th>9996</th>\n",
       "      <td>2</td>\n",
       "    </tr>\n",
       "    <tr>\n",
       "      <th>9997</th>\n",
       "      <td>2</td>\n",
       "    </tr>\n",
       "    <tr>\n",
       "      <th>9998</th>\n",
       "      <td>2</td>\n",
       "    </tr>\n",
       "    <tr>\n",
       "      <th>9999</th>\n",
       "      <td>2</td>\n",
       "    </tr>\n",
       "  </tbody>\n",
       "</table>\n",
       "<p>10000 rows × 1 columns</p>\n",
       "</div>"
      ],
      "text/plain": [
       "      0\n",
       "0     0\n",
       "1     0\n",
       "2     0\n",
       "3     0\n",
       "4     0\n",
       "...  ..\n",
       "9995  2\n",
       "9996  2\n",
       "9997  2\n",
       "9998  2\n",
       "9999  2\n",
       "\n",
       "[10000 rows x 1 columns]"
      ]
     },
     "execution_count": 276,
     "metadata": {},
     "output_type": "execute_result"
    }
   ],
   "source": [
    "y"
   ]
  },
  {
   "cell_type": "code",
   "execution_count": 277,
   "metadata": {},
   "outputs": [
    {
     "data": {
      "text/html": [
       "<div>\n",
       "<style scoped>\n",
       "    .dataframe tbody tr th:only-of-type {\n",
       "        vertical-align: middle;\n",
       "    }\n",
       "\n",
       "    .dataframe tbody tr th {\n",
       "        vertical-align: top;\n",
       "    }\n",
       "\n",
       "    .dataframe thead th {\n",
       "        text-align: right;\n",
       "    }\n",
       "</style>\n",
       "<table border=\"1\" class=\"dataframe\">\n",
       "  <thead>\n",
       "    <tr style=\"text-align: right;\">\n",
       "      <th></th>\n",
       "      <th>0</th>\n",
       "      <th>1</th>\n",
       "      <th>2</th>\n",
       "      <th>3</th>\n",
       "      <th>4</th>\n",
       "      <th>5</th>\n",
       "      <th>6</th>\n",
       "      <th>7</th>\n",
       "      <th>8</th>\n",
       "      <th>9</th>\n",
       "      <th>...</th>\n",
       "      <th>55</th>\n",
       "      <th>56</th>\n",
       "      <th>57</th>\n",
       "      <th>58</th>\n",
       "      <th>59</th>\n",
       "      <th>60</th>\n",
       "      <th>61</th>\n",
       "      <th>62</th>\n",
       "      <th>63</th>\n",
       "      <th>64</th>\n",
       "    </tr>\n",
       "  </thead>\n",
       "  <tbody>\n",
       "    <tr>\n",
       "      <th>0</th>\n",
       "      <td>0.0</td>\n",
       "      <td>0.0</td>\n",
       "      <td>0.0</td>\n",
       "      <td>0.0</td>\n",
       "      <td>1.0</td>\n",
       "      <td>0.0</td>\n",
       "      <td>0.0</td>\n",
       "      <td>0.0</td>\n",
       "      <td>0.0</td>\n",
       "      <td>0.0</td>\n",
       "      <td>...</td>\n",
       "      <td>0.0</td>\n",
       "      <td>0.0</td>\n",
       "      <td>0.0</td>\n",
       "      <td>0.0</td>\n",
       "      <td>0.0</td>\n",
       "      <td>1.0</td>\n",
       "      <td>0.0</td>\n",
       "      <td>0.0</td>\n",
       "      <td>0.0</td>\n",
       "      <td>0.0</td>\n",
       "    </tr>\n",
       "    <tr>\n",
       "      <th>1</th>\n",
       "      <td>0.0</td>\n",
       "      <td>0.0</td>\n",
       "      <td>0.0</td>\n",
       "      <td>0.0</td>\n",
       "      <td>1.0</td>\n",
       "      <td>0.0</td>\n",
       "      <td>0.0</td>\n",
       "      <td>0.0</td>\n",
       "      <td>0.0</td>\n",
       "      <td>0.0</td>\n",
       "      <td>...</td>\n",
       "      <td>0.0</td>\n",
       "      <td>0.0</td>\n",
       "      <td>0.0</td>\n",
       "      <td>1.0</td>\n",
       "      <td>0.0</td>\n",
       "      <td>0.0</td>\n",
       "      <td>0.0</td>\n",
       "      <td>0.0</td>\n",
       "      <td>0.0</td>\n",
       "      <td>0.0</td>\n",
       "    </tr>\n",
       "    <tr>\n",
       "      <th>2</th>\n",
       "      <td>0.0</td>\n",
       "      <td>0.0</td>\n",
       "      <td>0.0</td>\n",
       "      <td>0.0</td>\n",
       "      <td>0.0</td>\n",
       "      <td>0.0</td>\n",
       "      <td>0.0</td>\n",
       "      <td>0.0</td>\n",
       "      <td>0.0</td>\n",
       "      <td>0.0</td>\n",
       "      <td>...</td>\n",
       "      <td>0.0</td>\n",
       "      <td>0.0</td>\n",
       "      <td>0.0</td>\n",
       "      <td>0.0</td>\n",
       "      <td>0.0</td>\n",
       "      <td>1.0</td>\n",
       "      <td>0.0</td>\n",
       "      <td>0.0</td>\n",
       "      <td>0.0</td>\n",
       "      <td>0.0</td>\n",
       "    </tr>\n",
       "    <tr>\n",
       "      <th>3</th>\n",
       "      <td>0.0</td>\n",
       "      <td>0.0</td>\n",
       "      <td>0.0</td>\n",
       "      <td>0.0</td>\n",
       "      <td>0.0</td>\n",
       "      <td>0.0</td>\n",
       "      <td>0.0</td>\n",
       "      <td>0.0</td>\n",
       "      <td>0.0</td>\n",
       "      <td>0.0</td>\n",
       "      <td>...</td>\n",
       "      <td>0.0</td>\n",
       "      <td>0.0</td>\n",
       "      <td>0.0</td>\n",
       "      <td>1.0</td>\n",
       "      <td>0.0</td>\n",
       "      <td>0.0</td>\n",
       "      <td>0.0</td>\n",
       "      <td>0.0</td>\n",
       "      <td>0.0</td>\n",
       "      <td>0.0</td>\n",
       "    </tr>\n",
       "    <tr>\n",
       "      <th>4</th>\n",
       "      <td>0.0</td>\n",
       "      <td>1.0</td>\n",
       "      <td>0.0</td>\n",
       "      <td>0.0</td>\n",
       "      <td>0.0</td>\n",
       "      <td>0.0</td>\n",
       "      <td>0.0</td>\n",
       "      <td>0.0</td>\n",
       "      <td>0.0</td>\n",
       "      <td>0.0</td>\n",
       "      <td>...</td>\n",
       "      <td>0.0</td>\n",
       "      <td>0.0</td>\n",
       "      <td>0.0</td>\n",
       "      <td>0.0</td>\n",
       "      <td>1.0</td>\n",
       "      <td>0.0</td>\n",
       "      <td>0.0</td>\n",
       "      <td>0.0</td>\n",
       "      <td>0.0</td>\n",
       "      <td>0.0</td>\n",
       "    </tr>\n",
       "    <tr>\n",
       "      <th>...</th>\n",
       "      <td>...</td>\n",
       "      <td>...</td>\n",
       "      <td>...</td>\n",
       "      <td>...</td>\n",
       "      <td>...</td>\n",
       "      <td>...</td>\n",
       "      <td>...</td>\n",
       "      <td>...</td>\n",
       "      <td>...</td>\n",
       "      <td>...</td>\n",
       "      <td>...</td>\n",
       "      <td>...</td>\n",
       "      <td>...</td>\n",
       "      <td>...</td>\n",
       "      <td>...</td>\n",
       "      <td>...</td>\n",
       "      <td>...</td>\n",
       "      <td>...</td>\n",
       "      <td>...</td>\n",
       "      <td>...</td>\n",
       "      <td>...</td>\n",
       "    </tr>\n",
       "    <tr>\n",
       "      <th>9995</th>\n",
       "      <td>0.0</td>\n",
       "      <td>0.0</td>\n",
       "      <td>0.0</td>\n",
       "      <td>0.0</td>\n",
       "      <td>0.0</td>\n",
       "      <td>1.0</td>\n",
       "      <td>0.0</td>\n",
       "      <td>0.0</td>\n",
       "      <td>0.0</td>\n",
       "      <td>0.0</td>\n",
       "      <td>...</td>\n",
       "      <td>0.0</td>\n",
       "      <td>0.0</td>\n",
       "      <td>0.0</td>\n",
       "      <td>0.0</td>\n",
       "      <td>0.0</td>\n",
       "      <td>1.0</td>\n",
       "      <td>0.0</td>\n",
       "      <td>0.0</td>\n",
       "      <td>0.0</td>\n",
       "      <td>0.0</td>\n",
       "    </tr>\n",
       "    <tr>\n",
       "      <th>9996</th>\n",
       "      <td>0.0</td>\n",
       "      <td>0.0</td>\n",
       "      <td>0.0</td>\n",
       "      <td>0.0</td>\n",
       "      <td>1.0</td>\n",
       "      <td>0.0</td>\n",
       "      <td>0.0</td>\n",
       "      <td>0.0</td>\n",
       "      <td>0.0</td>\n",
       "      <td>0.0</td>\n",
       "      <td>...</td>\n",
       "      <td>0.0</td>\n",
       "      <td>0.0</td>\n",
       "      <td>0.0</td>\n",
       "      <td>0.0</td>\n",
       "      <td>0.0</td>\n",
       "      <td>1.0</td>\n",
       "      <td>0.0</td>\n",
       "      <td>0.0</td>\n",
       "      <td>0.0</td>\n",
       "      <td>0.0</td>\n",
       "    </tr>\n",
       "    <tr>\n",
       "      <th>9997</th>\n",
       "      <td>0.0</td>\n",
       "      <td>0.0</td>\n",
       "      <td>0.0</td>\n",
       "      <td>0.0</td>\n",
       "      <td>0.0</td>\n",
       "      <td>0.0</td>\n",
       "      <td>0.0</td>\n",
       "      <td>0.0</td>\n",
       "      <td>0.0</td>\n",
       "      <td>0.0</td>\n",
       "      <td>...</td>\n",
       "      <td>0.0</td>\n",
       "      <td>0.0</td>\n",
       "      <td>0.0</td>\n",
       "      <td>0.0</td>\n",
       "      <td>0.0</td>\n",
       "      <td>1.0</td>\n",
       "      <td>0.0</td>\n",
       "      <td>0.0</td>\n",
       "      <td>0.0</td>\n",
       "      <td>0.0</td>\n",
       "    </tr>\n",
       "    <tr>\n",
       "      <th>9998</th>\n",
       "      <td>0.0</td>\n",
       "      <td>0.0</td>\n",
       "      <td>0.0</td>\n",
       "      <td>0.0</td>\n",
       "      <td>0.0</td>\n",
       "      <td>0.0</td>\n",
       "      <td>0.0</td>\n",
       "      <td>0.0</td>\n",
       "      <td>0.0</td>\n",
       "      <td>0.0</td>\n",
       "      <td>...</td>\n",
       "      <td>0.0</td>\n",
       "      <td>0.0</td>\n",
       "      <td>0.0</td>\n",
       "      <td>0.0</td>\n",
       "      <td>0.0</td>\n",
       "      <td>0.0</td>\n",
       "      <td>1.0</td>\n",
       "      <td>0.0</td>\n",
       "      <td>0.0</td>\n",
       "      <td>0.0</td>\n",
       "    </tr>\n",
       "    <tr>\n",
       "      <th>9999</th>\n",
       "      <td>0.0</td>\n",
       "      <td>0.0</td>\n",
       "      <td>0.0</td>\n",
       "      <td>0.0</td>\n",
       "      <td>1.0</td>\n",
       "      <td>0.0</td>\n",
       "      <td>0.0</td>\n",
       "      <td>0.0</td>\n",
       "      <td>0.0</td>\n",
       "      <td>0.0</td>\n",
       "      <td>...</td>\n",
       "      <td>0.0</td>\n",
       "      <td>0.0</td>\n",
       "      <td>0.0</td>\n",
       "      <td>0.0</td>\n",
       "      <td>0.0</td>\n",
       "      <td>1.0</td>\n",
       "      <td>0.0</td>\n",
       "      <td>0.0</td>\n",
       "      <td>0.0</td>\n",
       "      <td>0.0</td>\n",
       "    </tr>\n",
       "  </tbody>\n",
       "</table>\n",
       "<p>10000 rows × 65 columns</p>\n",
       "</div>"
      ],
      "text/plain": [
       "       0    1    2    3    4    5    6    7    8    9   ...   55   56   57  \\\n",
       "0     0.0  0.0  0.0  0.0  1.0  0.0  0.0  0.0  0.0  0.0  ...  0.0  0.0  0.0   \n",
       "1     0.0  0.0  0.0  0.0  1.0  0.0  0.0  0.0  0.0  0.0  ...  0.0  0.0  0.0   \n",
       "2     0.0  0.0  0.0  0.0  0.0  0.0  0.0  0.0  0.0  0.0  ...  0.0  0.0  0.0   \n",
       "3     0.0  0.0  0.0  0.0  0.0  0.0  0.0  0.0  0.0  0.0  ...  0.0  0.0  0.0   \n",
       "4     0.0  1.0  0.0  0.0  0.0  0.0  0.0  0.0  0.0  0.0  ...  0.0  0.0  0.0   \n",
       "...   ...  ...  ...  ...  ...  ...  ...  ...  ...  ...  ...  ...  ...  ...   \n",
       "9995  0.0  0.0  0.0  0.0  0.0  1.0  0.0  0.0  0.0  0.0  ...  0.0  0.0  0.0   \n",
       "9996  0.0  0.0  0.0  0.0  1.0  0.0  0.0  0.0  0.0  0.0  ...  0.0  0.0  0.0   \n",
       "9997  0.0  0.0  0.0  0.0  0.0  0.0  0.0  0.0  0.0  0.0  ...  0.0  0.0  0.0   \n",
       "9998  0.0  0.0  0.0  0.0  0.0  0.0  0.0  0.0  0.0  0.0  ...  0.0  0.0  0.0   \n",
       "9999  0.0  0.0  0.0  0.0  1.0  0.0  0.0  0.0  0.0  0.0  ...  0.0  0.0  0.0   \n",
       "\n",
       "       58   59   60   61   62   63   64  \n",
       "0     0.0  0.0  1.0  0.0  0.0  0.0  0.0  \n",
       "1     1.0  0.0  0.0  0.0  0.0  0.0  0.0  \n",
       "2     0.0  0.0  1.0  0.0  0.0  0.0  0.0  \n",
       "3     1.0  0.0  0.0  0.0  0.0  0.0  0.0  \n",
       "4     0.0  1.0  0.0  0.0  0.0  0.0  0.0  \n",
       "...   ...  ...  ...  ...  ...  ...  ...  \n",
       "9995  0.0  0.0  1.0  0.0  0.0  0.0  0.0  \n",
       "9996  0.0  0.0  1.0  0.0  0.0  0.0  0.0  \n",
       "9997  0.0  0.0  1.0  0.0  0.0  0.0  0.0  \n",
       "9998  0.0  0.0  0.0  1.0  0.0  0.0  0.0  \n",
       "9999  0.0  0.0  1.0  0.0  0.0  0.0  0.0  \n",
       "\n",
       "[10000 rows x 65 columns]"
      ]
     },
     "execution_count": 277,
     "metadata": {},
     "output_type": "execute_result"
    }
   ],
   "source": [
    "X"
   ]
  },
  {
   "cell_type": "code",
   "execution_count": 278,
   "metadata": {
    "id": "923djmyEZnSb"
   },
   "outputs": [],
   "source": [
    "# função pra treinar os algoritmos\n",
    "skf = StratifiedKFold(n_splits=10, shuffle=True, random_state=101)"
   ]
  },
  {
   "cell_type": "code",
   "execution_count": 279,
   "metadata": {
    "id": "Hpl0tCr5T8hV"
   },
   "outputs": [],
   "source": [
    "# função do GridSearch\n",
    "\n",
    "def grids(grid_params, clf, X_train, y_train):\n",
    "  grid = GridSearchCV(estimator = clf, param_grid=grid_params, scoring='accuracy')\n",
    "  grid.fit(X_train, y_train)\n",
    "  \n",
    "  return grid.best_params_"
   ]
  },
  {
   "cell_type": "code",
   "execution_count": 280,
   "metadata": {
    "id": "_ZSSyqAfiyaC"
   },
   "outputs": [],
   "source": [
    "# função para recolher os resultados do modelo\n",
    "\n",
    "def major_results(model, X_train, y_train, X_test, y_test, option, **kwargs):\n",
    "\n",
    "  # lista para armazenar os dados\n",
    "  accuracies = []\n",
    "  f1_scores = []\n",
    "  auc_list = []\n",
    "  conf_mat = []\n",
    "\n",
    "  #dicionário com todas listas\n",
    "  partial_results = {\n",
    "      'accuracy': accuracies,\n",
    "      'f1': f1_scores,\n",
    "      'auc_list': auc_list,\n",
    "      'cm': conf_mat\n",
    "  }\n",
    "\n",
    "  if option == 1:\n",
    "    model.fit(X_train, y_train)\n",
    "    y_pred = model.predict(X_test)\n",
    "    y_pred_auc = model.predict_proba(X_test)\n",
    "\n",
    "\n",
    "  #medindo e armazenando acurácia, f1-score e auc-score no dicionário\n",
    "  accuracy = model.score(X_test, y_test)\n",
    "  f1 = f1_score(y_test, y_pred, average='macro')\n",
    "  AUC = roc_auc_score(y_test, y_pred_auc, average='macro', multi_class='ovr')\n",
    "  conf_mat = confusion_matrix(y_test, y_pred)\n",
    "\n",
    "  partial_results['accuracy'].append(accuracy)\n",
    "  partial_results['f1'].append(f1)\n",
    "  partial_results['auc_list'].append(AUC)\n",
    "  partial_results['cm'].append(conf_mat)\n",
    "\n",
    "  return partial_results\n"
   ]
  },
  {
   "cell_type": "code",
   "execution_count": 281,
   "metadata": {
    "id": "nhLXC9jHE0Wl"
   },
   "outputs": [],
   "source": [
    "# parâmetros knn\n",
    "knn_params = {\n",
    "    'n_neighbors' : range(1,41,2),\n",
    "    'weights' : ['uniform', 'distance'],\n",
    "    'metric' : ['euclidian','manhattan','chebyshev']\n",
    "}\n",
    "\n",
    "# parâmetros mlp\n",
    "mlp_params = {\"alpha\": [0.1, 0.01, 0.0001],\n",
    "              \"hidden_layer_sizes\": [(10,10,10),\n",
    "                                     (100,100,100),\n",
    "                                     (100,100)],\n",
    "              \"max_iter\" : [10,20],\n",
    "              \"solver\" : [\"lbfgs\",\"adam\",\"sgd\"],\n",
    "              \"activation\": [\"relu\",\"logistic\"]}\n",
    "# parâmetros dt\n",
    "dt_params = { \n",
    "    'criterion':['gini','entropy'],\n",
    "    'max_depth': np.arange(3, 10)} \n",
    "\n",
    "#parâmetros SVM \n",
    "svm_params = {'C': [0.1, 1, 10],\n",
    "              'degree': [3],\n",
    "              'gamma': [1, 0.1, 0.01],\n",
    "              'kernel': ['rbf']}\n",
    "\n",
    "#parametros GNB\n",
    "gnb_params = {\n",
    "    'var_smoothing': np.logspace(0,-9, num=100)    \n",
    "}\n",
    "#parametros BNB\n",
    "bnb_params = {\n",
    "    'alpha': (1, 0.1, 0.01, 0.001, 0.0001, 0.00001)\n",
    "}"
   ]
  },
  {
   "cell_type": "code",
   "execution_count": 282,
   "metadata": {
    "id": "ENpSDWkfe7Df"
   },
   "outputs": [],
   "source": [
    "def plot_ROC_curve(model, X_train, y_train, X_test, y_test):\n",
    "\n",
    "    # Creating visualization with the readable labels\n",
    "    visualizer = ROCAUC(model, encoder={0: '0', \n",
    "                                        1: '1', \n",
    "                                        2: '2'})\n",
    "                                        \n",
    "    # Fitting to the training data first then scoring with the test data                                    \n",
    "    visualizer.fit(X_train, y_train)\n",
    "    visualizer.score(X_test, y_test)\n",
    "    visualizer.show()\n",
    "    \n",
    "    return visualizer"
   ]
  },
  {
   "cell_type": "code",
   "execution_count": 283,
   "metadata": {
    "id": "8tTwGoWBaUUi"
   },
   "outputs": [],
   "source": [
    "# função de avaliação dos modelos\n",
    "def evaluate_model_with_skfold(skf):\n",
    "\n",
    "  # Listas com os resultados\n",
    "  knn_r, mlp_r, dt_r, svm_r, gnb_r, bnb_r, accuracies, f1_s, auc_s, result_matrix = [],[],[],[],[],[],[],[],[],[] \n",
    "\n",
    "  #dicionário com todas listas\n",
    "  general_results = {\n",
    "    'knn': knn_r,\n",
    "    'mlp': mlp_r,\n",
    "    'dt': dt_r,\n",
    "    'svm': svm_r,\n",
    "    'gnb': gnb_r,\n",
    "    'bnb': bnb_r \n",
    "  }\n",
    "\n",
    "  knn_mx, mlp_mx, dt_mx, svm_mx, gnb_mx, bnb_mx = 0, 0, 0, 0, 0, 0\n",
    "  print('Aguarde, treinando os modelos ', end='')\n",
    "  print('\\n')\n",
    "  i = 1\n",
    "  for train, test in skf.split(X, y):\n",
    "    X_train, X_test, y_train, y_test = X.iloc[train], X.iloc[test], y.iloc[train], y.iloc[test]\n",
    "\n",
    "    print(f'{i}º Fold', end=': ')\n",
    "    #for the kNN\n",
    "    dict_knn = grids(knn_params, KNeighborsClassifier(),X_train, y_train)\n",
    "    knn = KNeighborsClassifier(n_neighbors=dict_knn['n_neighbors'], weights=dict_knn['weights'], \n",
    "                                metric = dict_knn['metric'])    \n",
    "    # retorna um dicionário com as métricas computadas\n",
    "    result = major_results(knn, X_train, y_train, X_test, y_test, option = 1)\n",
    "    # adiciona o dicionário de métricas na \n",
    "    knn_r.append(result)\n",
    "    \n",
    "    if np.array(result['auc_list']).max() >= knn_mx:\n",
    "        knn_mx = np.array(result['auc_list']).max()\n",
    "        knn_to_be_ploted = knn\n",
    "    \n",
    "    print('kNN', end = ' - ')\n",
    "\n",
    "    #for the MLP\n",
    "\n",
    "    dict_mlp = grids(mlp_params, MLPClassifier(),X_train, y_train)\n",
    "    mlpc = MLPClassifier(alpha=dict_mlp['alpha'], hidden_layer_sizes=dict_mlp['hidden_layer_sizes'],\n",
    "                         max_iter=dict_mlp['max_iter'], solver=dict_mlp['solver'], activation=dict_mlp['activation'])\n",
    "    result = major_results(mlpc, X_train, y_train, X_test, y_test, option = 1)\n",
    "    mlp_r.append(result)\n",
    "\n",
    "    if np.array(result['auc_list']).max() >= mlp_mx:\n",
    "        mlp_mx = np.array(result['auc_list']).max()\n",
    "        mlp_to_be_ploted = mlpc\n",
    "    \n",
    "    print('MLP', end = ' - ')\n",
    "     \n",
    "    #for the DT\n",
    "    \n",
    "    dict_dt = grids(dt_params, DecisionTreeClassifier(), X_train, y_train)\n",
    "    dtc = DecisionTreeClassifier(criterion=dict_dt['criterion'], max_depth=dict_dt['max_depth'])\n",
    "    result = major_results(dtc, X_train, y_train, X_test, y_test, option = 1)\n",
    "    dt_r.append(result)\n",
    "    \n",
    "    if np.array(result['auc_list']).max() >= dt_mx:\n",
    "        dt_mx = np.array(result['auc_list']).max()\n",
    "        dt_to_be_ploted = dtc\n",
    "    \n",
    "    print('DT', end = ' - ')\n",
    "    \n",
    "    #for the SVM\n",
    "    \n",
    "    dict_svm = grids(svm_params, SVC(), X_train, y_train)\n",
    "    svm = SVC(C=dict_svm['C'], gamma=dict_svm['gamma'], kernel=dict_svm['kernel'], degree=dict_svm['degree'], probability=True)\n",
    "    result = major_results(svm, X_train, y_train, X_test, y_test, option = 1)\n",
    "    svm_r.append(result)\n",
    "    \n",
    "    if np.array(result['auc_list']).max() >= svm_mx:\n",
    "        svm_mx = np.array(result['auc_list']).max()\n",
    "        svm_to_be_ploted = svm\n",
    "    \n",
    "    print('SVM', end = ' - ')\n",
    "    \n",
    "    #for the GNB\n",
    "    \n",
    "    dict_gnb = grids(gnb_params, GaussianNB(), X_train, y_train)\n",
    "    gnb = GaussianNB(var_smoothing=dict_gnb['var_smoothing'])\n",
    "    result = major_results(gnb, X_train, y_train, X_test, y_test, option = 1)\n",
    "    gnb_r.append(result)\n",
    "    \n",
    "    if np.array(result['auc_list']).max() >= svm_mx:\n",
    "        gnb_mx = np.array(result['auc_list']).max()\n",
    "        gnb_to_be_ploted = gnb\n",
    "    print('GNB', end = ' - ')\n",
    "    \n",
    "    #for the BNB\n",
    "    \n",
    "    dict_bnb = grids(bnb_params, BernoulliNB(), X_train, y_train)\n",
    "    bnb = BernoulliNB(alpha=dict_bnb['alpha'])\n",
    "    result = major_results(bnb, X_train, y_train, X_test, y_test, option = 1)\n",
    "    bnb_r.append(result)\n",
    "    \n",
    "    if np.array(result['auc_list']).max() >= svm_mx:\n",
    "        bnb_mx = np.array(result['auc_list']).max()\n",
    "        bnb_to_be_ploted = bnb\n",
    "    \n",
    "    print('BNB', end = ' ')\n",
    "    print('\\n')\n",
    "    i = i+1\n",
    "  \n",
    "  knn_r.append(knn_to_be_ploted)\n",
    "  mlp_r.append(mlp_to_be_ploted)\n",
    "  dt_r.append(dt_to_be_ploted)\n",
    "  svm_r.append(svm_to_be_ploted)\n",
    "  gnb_r.append(gnb_to_be_ploted)\n",
    "  bnb_r.append(bnb_to_be_ploted)\n",
    "\n",
    "  general_results['knn'] = knn_r\n",
    "  general_results['mlp'] = mlp_r\n",
    "  general_results['dt'] = dt_r\n",
    "  general_results['svm'] = svm_r\n",
    "  general_results['gnb'] = gnb_r\n",
    "  general_results['bnb'] = bnb_r\n",
    "\n",
    "  print('\\n')\n",
    "  for k, v in general_results.items():\n",
    "    for item in v[:-2]:\n",
    "      accuracies.append(item['accuracy'])\n",
    "      f1_s.append(item['f1'])\n",
    "      auc_s.append(item['auc_list'])\n",
    "      result_matrix.append(np.array(item['cm']))\n",
    "\n",
    "\n",
    "    print(f'Model: {k}\\n')\n",
    "    print(\"Acurácia média (desvio): %.6f +- (%.6f)\" %(np.array(accuracies).mean(), np.array(accuracies).std()))\n",
    "    print(\"F1-score média (desvio): %.6f +- (%.6f)\" %(np.array(f1_s).mean(), np.array(f1_s).std()))\n",
    "    print(\"AUC média (desvio): %.6f +- (%.6f)\\n\" %(np.array(auc_s).mean(), np.array(auc_s).std()))\n",
    "    print(f\"Matriz de Confusão:  \\n{sum(result_matrix)*0.1}\\n\")\n",
    "    print('\\n')\n",
    "    print('A curva ROC com do modelo de maior AUC é: \\n')\n",
    "\n",
    "    plot_ROC_curve(v[-1], X_train, y_train, X_test, y_test)\n",
    "\n",
    "    accuracies, f1_s, auc_s, result_matrix = [], [], [], []\n"
   ]
  },
  {
   "cell_type": "code",
   "execution_count": 284,
   "metadata": {
    "colab": {
     "base_uri": "https://localhost:8080/",
     "height": 340
    },
    "id": "KLCvK295MsYJ",
    "outputId": "2e91e7e9-98a5-4cce-900d-40d6c30873b1"
   },
   "outputs": [
    {
     "name": "stdout",
     "output_type": "stream",
     "text": [
      "Aguarde, treinando os modelos \n",
      "\n",
      "1º Fold: kNN - MLP - DT - SVM - GNB - BNB \n",
      "\n",
      "2º Fold: kNN - MLP - DT - SVM - GNB - BNB \n",
      "\n",
      "3º Fold: kNN - MLP - DT - SVM - GNB - BNB \n",
      "\n",
      "4º Fold: kNN - MLP - DT - SVM - GNB - BNB \n",
      "\n",
      "5º Fold: kNN - MLP - DT - SVM - GNB - BNB \n",
      "\n",
      "6º Fold: kNN - MLP - DT - SVM - GNB - BNB \n",
      "\n",
      "7º Fold: kNN - MLP - DT - SVM - GNB - BNB \n",
      "\n",
      "8º Fold: kNN - MLP - DT - SVM - GNB - BNB \n",
      "\n",
      "9º Fold: kNN - MLP - DT - SVM - GNB - BNB \n",
      "\n",
      "10º Fold: kNN - MLP - DT - SVM - GNB - BNB \n",
      "\n",
      "\n",
      "\n",
      "Model: knn\n",
      "\n",
      "Acurácia média (desvio): 0.523222 +- (0.018984)\n",
      "F1-score média (desvio): 0.364001 +- (0.013300)\n",
      "AUC média (desvio): 0.557319 +- (0.019584)\n",
      "\n",
      "Matriz de Confusão:  \n",
      "[[[2.488e+02 3.000e-01 1.649e+02]\n",
      "  [3.710e+01 1.000e-01 3.480e+01]\n",
      "  [1.916e+02 4.000e-01 2.220e+02]]]\n",
      "\n",
      "\n",
      "\n",
      "A curva ROC com do modelo de maior AUC é: \n",
      "\n"
     ]
    },
    {
     "data": {
      "image/png": "[encoded data removed]",
      "text/plain": [
       "<Figure size 576x396 with 1 Axes>"
      ]
     },
     "metadata": {},
     "output_type": "display_data"
    },
    {
     "name": "stdout",
     "output_type": "stream",
     "text": [
      "Model: mlp\n",
      "\n",
      "Acurácia média (desvio): 0.545222 +- (0.017491)\n",
      "F1-score média (desvio): 0.378067 +- (0.011773)\n",
      "AUC média (desvio): 0.584902 +- (0.020594)\n",
      "\n",
      "Matriz de Confusão:  \n",
      "[[[245.2   0.  168.8]\n",
      "  [ 33.9   0.   38.1]\n",
      "  [168.5   0.  245.5]]]\n",
      "\n",
      "\n",
      "\n",
      "A curva ROC com do modelo de maior AUC é: \n",
      "\n"
     ]
    },
    {
     "data": {
      "image/png": "[encoded data removed]",
      "text/plain": [
       "<Figure size 576x396 with 1 Axes>"
      ]
     },
     "metadata": {},
     "output_type": "display_data"
    },
    {
     "name": "stdout",
     "output_type": "stream",
     "text": [
      "Model: dt\n",
      "\n",
      "Acurácia média (desvio): 0.546556 +- (0.015356)\n",
      "F1-score média (desvio): 0.377324 +- (0.010765)\n",
      "AUC média (desvio): 0.596023 +- (0.017224)\n",
      "\n",
      "Matriz de Confusão:  \n",
      "[[[2.758e+02 1.000e-01 1.381e+02]\n",
      "  [3.620e+01 0.000e+00 3.580e+01]\n",
      "  [1.979e+02 0.000e+00 2.161e+02]]]\n",
      "\n",
      "\n",
      "\n",
      "A curva ROC com do modelo de maior AUC é: \n",
      "\n"
     ]
    },
    {
     "data": {
      "image/png": "[encoded data removed]",
      "text/plain": [
       "<Figure size 576x396 with 1 Axes>"
      ]
     },
     "metadata": {},
     "output_type": "display_data"
    },
    {
     "name": "stdout",
     "output_type": "stream",
     "text": [
      "Model: svm\n",
      "\n",
      "Acurácia média (desvio): 0.547333 +- (0.017707)\n",
      "F1-score média (desvio): 0.379664 +- (0.012168)\n",
      "AUC média (desvio): 0.573517 +- (0.013553)\n",
      "\n",
      "Matriz de Confusão:  \n",
      "[[[250.1   0.  163.9]\n",
      "  [ 32.2   0.   39.8]\n",
      "  [171.5   0.  242.5]]]\n",
      "\n",
      "\n",
      "\n",
      "A curva ROC com do modelo de maior AUC é: \n",
      "\n"
     ]
    },
    {
     "data": {
      "image/png": "[encoded data removed]",
      "text/plain": [
       "<Figure size 576x396 with 1 Axes>"
      ]
     },
     "metadata": {},
     "output_type": "display_data"
    },
    {
     "name": "stdout",
     "output_type": "stream",
     "text": [
      "Model: gnb\n",
      "\n",
      "Acurácia média (desvio): 0.540444 +- (0.017308)\n",
      "F1-score média (desvio): 0.371531 +- (0.011942)\n",
      "AUC média (desvio): 0.590942 +- (0.016002)\n",
      "\n",
      "Matriz de Confusão:  \n",
      "[[[292.4   0.  121.6]\n",
      "  [ 41.6   0.   30.4]\n",
      "  [220.    0.  194. ]]]\n",
      "\n",
      "\n",
      "\n",
      "A curva ROC com do modelo de maior AUC é: \n",
      "\n"
     ]
    },
    {
     "data": {
      "image/png": "[encoded data removed]",
      "text/plain": [
       "<Figure size 576x396 with 1 Axes>"
      ]
     },
     "metadata": {},
     "output_type": "display_data"
    },
    {
     "name": "stdout",
     "output_type": "stream",
     "text": [
      "Model: bnb\n",
      "\n",
      "Acurácia média (desvio): 0.540333 +- (0.013250)\n",
      "F1-score média (desvio): 0.375095 +- (0.009091)\n",
      "AUC média (desvio): 0.588232 +- (0.015185)\n",
      "\n",
      "Matriz de Confusão:  \n",
      "[[[250.9   0.  163.1]\n",
      "  [ 33.6   0.   38.4]\n",
      "  [178.6   0.  235.4]]]\n",
      "\n",
      "\n",
      "\n",
      "A curva ROC com do modelo de maior AUC é: \n",
      "\n"
     ]
    },
    {
     "data": {
      "image/png": "[encoded data removed]",
      "text/plain": [
       "<Figure size 576x396 with 1 Axes>"
      ]
     },
     "metadata": {},
     "output_type": "display_data"
    },
    {
     "name": "stdout",
     "output_type": "stream",
     "text": [
      "Wall time: 2h 28min 8s\n"
     ]
    }
   ],
   "source": [
    "%%time \n",
    "\n",
    "evaluate_model_with_skfold(skf)"
   ]
  }
 ],
 "metadata": {
  "colab": {
   "collapsed_sections": [],
   "name": "Das auto data.ipynb",
   "provenance": []
  },
  "kernelspec": {
   "display_name": "Python 3 (ipykernel)",
   "language": "python",
   "name": "python3"
  },
  "language_info": {
   "codemirror_mode": {
    "name": "ipython",
    "version": 3
   },
   "file_extension": ".py",
   "mimetype": "text/x-python",
   "name": "python",
   "nbconvert_exporter": "python",
   "pygments_lexer": "ipython3",
   "version": "3.9.7"
  }
 },
 "nbformat": 4,
 "nbformat_minor": 1
}
